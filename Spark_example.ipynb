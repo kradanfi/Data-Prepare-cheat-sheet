{
  "nbformat": 4,
  "nbformat_minor": 0,
  "metadata": {
    "colab": {
      "name": "ML_lab4_ctr_student.ipynb.txt",
      "provenance": [],
      "collapsed_sections": [],
      "toc_visible": true,
      "include_colab_link": true
    },
    "kernelspec": {
      "name": "python2",
      "display_name": "Python 2"
    }
  },
  "cells": [
    {
      "cell_type": "markdown",
      "metadata": {
        "id": "view-in-github",
        "colab_type": "text"
      },
      "source": [
        "<a href=\"https://colab.research.google.com/github/kradanfi/Data-Prepare-cheat-sheet/blob/master/Spark_example.ipynb\" target=\"_parent\"><img src=\"https://colab.research.google.com/assets/colab-badge.svg\" alt=\"Open In Colab\"/></a>"
      ]
    },
    {
      "cell_type": "markdown",
      "metadata": {
        "id": "jbyGGfhKiGZj",
        "colab_type": "text"
      },
      "source": [
        "![ML Logo](http://spark-mooc.github.io/web-assets/images/CS190.1x_Banner_300.png)\n",
        "# **Click-Through Rate Prediction Lab**\n",
        "#### This lab covers the steps for creating a click-through rate (CTR) prediction pipeline.  You will work with the [Criteo Labs](http://labs.criteo.com/) dataset that was used for a recent [Kaggle competition](https://www.kaggle.com/c/criteo-display-ad-challenge).\n",
        "#### ** This lab will cover: **\n",
        "+  ####*Part 1:* Featurize categorical data using one-hot-encoding (OHE)\n",
        "+  ####*Part 2:* Construct an OHE dictionary\n",
        "+  ####*Part 3:* Parse CTR data and generate OHE features\n",
        " + #### *Visualization 1:* Feature frequency\n",
        "+  ####*Part 4:* CTR prediction and logloss evaluation\n",
        " + #### *Visualization 2:* ROC curve\n",
        "+  ####*Part 5:* Reduce feature dimension via feature hashing\n",
        " + #### *Visualization 3:* Hyperparameter heat map\n",
        " \n",
        "#### Note that, for reference, you can look up the details of the relevant Spark methods in [Spark's Python API](https://spark.apache.org/docs/latest/api/python/pyspark.html#pyspark.RDD) and the relevant NumPy methods in the [NumPy Reference](http://docs.scipy.org/doc/numpy/reference/index.html)"
      ]
    },
    {
      "cell_type": "code",
      "metadata": {
        "id": "TLDq0D5biGZm",
        "colab_type": "code",
        "colab": {}
      },
      "source": [
        "labVersion = 'cs190_week4_v_1_3'"
      ],
      "execution_count": 0,
      "outputs": []
    },
    {
      "cell_type": "code",
      "metadata": {
        "id": "I60clPFsFpY2",
        "colab_type": "code",
        "outputId": "9292e5a5-a4ff-48a4-ae29-8497723694c8",
        "colab": {
          "base_uri": "https://localhost:8080/",
          "height": 34
        }
      },
      "source": [
        "!ls /content"
      ],
      "execution_count": 18,
      "outputs": [
        {
          "output_type": "stream",
          "text": [
            "sample_data  spark-2.4.5-bin-hadoop2.7\tspark-2.4.5-bin-hadoop2.7.tgz\n"
          ],
          "name": "stdout"
        }
      ]
    },
    {
      "cell_type": "code",
      "metadata": {
        "id": "gNVGxPADAeZP",
        "colab_type": "code",
        "colab": {
          "base_uri": "https://localhost:8080/",
          "height": 34
        },
        "outputId": "bfa6c71f-41d5-4bf6-c34e-d5bb2f0d4830"
      },
      "source": [
        "print('test git')"
      ],
      "execution_count": 3,
      "outputs": [
        {
          "output_type": "stream",
          "text": [
            "test git\n"
          ],
          "name": "stdout"
        }
      ]
    },
    {
      "cell_type": "code",
      "metadata": {
        "id": "JJeUpya0iqdQ",
        "colab_type": "code",
        "colab": {}
      },
      "source": [
        "!apt-get install openjdk-8-jdk-headless -qq > /dev/null\n",
        "!wget -q http://www-eu.apache.org/dist/spark/spark-2.4.5/spark-2.4.5-bin-hadoop2.7.tgz\n",
        "!tar xf spark-2.4.5-bin-hadoop2.7.tgz\n",
        "!pip install -q findspark\n",
        "import os\n",
        "\n",
        "os.environ[\"JAVA_HOME\"] = \"/usr/lib/jvm/java-8-openjdk-amd64\"\n",
        "os.environ[\"SPARK_HOME\"] = \"/content/spark-2.4.5-bin-hadoop2.7\"\n",
        "\n",
        "import findspark\n",
        "\n",
        "findspark.init()\n",
        "\n",
        "from pyspark import SparkContext\n",
        "\n"
      ],
      "execution_count": 0,
      "outputs": []
    },
    {
      "cell_type": "code",
      "metadata": {
        "id": "XG4xxcDd5sdo",
        "colab_type": "code",
        "colab": {}
      },
      "source": [
        "SparkContext.setSystemProperty('spark.executor.memory', '12g')\n",
        "sc = SparkContext(\"local\", \"App Name\")"
      ],
      "execution_count": 0,
      "outputs": []
    },
    {
      "cell_type": "code",
      "metadata": {
        "id": "WyeDPRxa7rjy",
        "colab_type": "code",
        "outputId": "c2ac17dd-cfe8-468a-8ce8-4904ad7d1dad",
        "colab": {
          "base_uri": "https://localhost:8080/",
          "height": 173
        }
      },
      "source": [
        "!pip install test_helper"
      ],
      "execution_count": 6,
      "outputs": [
        {
          "output_type": "stream",
          "text": [
            "Collecting test_helper\n",
            "  Downloading https://files.pythonhosted.org/packages/9d/58/56782997d754d80e25c3d36ba830309ab00827fdb1766ee8df5b05b5da0d/test_helper-0.2.tar.gz\n",
            "Building wheels for collected packages: test-helper\n",
            "  Building wheel for test-helper (setup.py) ... \u001b[?25l\u001b[?25hdone\n",
            "  Created wheel for test-helper: filename=test_helper-0.2-cp27-none-any.whl size=1885 sha256=125fe92beebcf051dbbda7fe6abed9a859e60e1139a20ca21323d42c78344c9d\n",
            "  Stored in directory: /root/.cache/pip/wheels/a7/b8/c8/b364571ce6fbbb2fc5325ef7ab1d6f4fee85b7d6a85675dd64\n",
            "Successfully built test-helper\n",
            "Installing collected packages: test-helper\n",
            "Successfully installed test-helper-0.2\n"
          ],
          "name": "stdout"
        }
      ]
    },
    {
      "cell_type": "markdown",
      "metadata": {
        "id": "eursnLFeiGZr",
        "colab_type": "text"
      },
      "source": [
        "### ** Part 1: Featurize categorical data using one-hot-encoding **"
      ]
    },
    {
      "cell_type": "markdown",
      "metadata": {
        "id": "P0-NdoUciGZt",
        "colab_type": "text"
      },
      "source": [
        "#### ** (1a) One-hot-encoding **\n",
        "#### We would like to develop code to convert categorical features to numerical ones, and to build intuition, we will work with a sample unlabeled dataset with three data points, with each data point representing an animal. The first feature indicates the type of animal (bear, cat, mouse); the second feature describes the animal's color (black, tabby); and the third (optional) feature describes what the animal eats (mouse, salmon).\n",
        "#### In a one-hot-encoding (OHE) scheme, we want to represent each tuple of `(featureID, category)` via its own binary feature.  We can do this in Python by creating a dictionary that maps each tuple to a distinct integer, where the integer corresponds to a binary feature. To start, manually enter the entries in the OHE dictionary associated with the sample dataset by mapping the tuples to consecutive integers starting from zero,  ordering the tuples first by featureID and next by category.\n",
        "#### Later in this lab, we'll use OHE dictionaries to transform data points into compact lists of features that can be used in machine learning algorithms."
      ]
    },
    {
      "cell_type": "code",
      "metadata": {
        "id": "SeOrexCYiGZu",
        "colab_type": "code",
        "colab": {}
      },
      "source": [
        "# Data for manual OHE\n",
        "# Note: the first data point does not include any value for the optional third feature\n",
        "sampleOne = [(0, 'mouse'), (1, 'black')]\n",
        "sampleTwo = [(0, 'cat'), (1, 'tabby'), (2, 'mouse')]\n",
        "sampleThree =  [(0, 'bear'), (1, 'black'), (2, 'salmon')]\n",
        "sampleDataRDD = sc.parallelize([sampleOne, sampleTwo, sampleThree])"
      ],
      "execution_count": 0,
      "outputs": []
    },
    {
      "cell_type": "code",
      "metadata": {
        "id": "uImtECAntj2D",
        "colab_type": "code",
        "outputId": "6b996a3a-9b77-4f56-cf76-fd9a21784290",
        "colab": {
          "base_uri": "https://localhost:8080/",
          "height": 34
        }
      },
      "source": [
        "print(sampleDataRDD)"
      ],
      "execution_count": 8,
      "outputs": [
        {
          "output_type": "stream",
          "text": [
            "ParallelCollectionRDD[0] at parallelize at PythonRDD.scala:195\n"
          ],
          "name": "stdout"
        }
      ]
    },
    {
      "cell_type": "markdown",
      "metadata": {
        "id": "YeYy3Akq3Gli",
        "colab_type": "text"
      },
      "source": [
        "#### get someting from RDD"
      ]
    },
    {
      "cell_type": "code",
      "metadata": {
        "id": "y1FwGgE52KeY",
        "colab_type": "code",
        "outputId": "fb25f49f-6575-4222-d4f0-7fc90363b6b0",
        "colab": {
          "base_uri": "https://localhost:8080/",
          "height": 69
        }
      },
      "source": [
        "sampleDataRDD.collect()"
      ],
      "execution_count": 9,
      "outputs": [
        {
          "output_type": "execute_result",
          "data": {
            "text/plain": [
              "[[(0, 'mouse'), (1, 'black')],\n",
              " [(0, 'cat'), (1, 'tabby'), (2, 'mouse')],\n",
              " [(0, 'bear'), (1, 'black'), (2, 'salmon')]]"
            ]
          },
          "metadata": {
            "tags": []
          },
          "execution_count": 9
        }
      ]
    },
    {
      "cell_type": "code",
      "metadata": {
        "id": "qzaQOytXiGZy",
        "colab_type": "code",
        "outputId": "c84c99e7-6e58-4b20-d850-39d79abc593d",
        "colab": {
          "base_uri": "https://localhost:8080/",
          "height": 34
        }
      },
      "source": [
        "# TODO: Replace <FILL IN> with appropriate code\n",
        "sampleOHEDictManual = {}\n",
        "sampleOHEDictManual[(0,'bear')] = 0\n",
        "sampleOHEDictManual[(0,'cat')] = 1\n",
        "sampleOHEDictManual[(0,'mouse')] = 2\n",
        "sampleOHEDictManual[(1,'black')] = 3\n",
        "sampleOHEDictManual[(1,'tabby')] = 4\n",
        "sampleOHEDictManual[(2,'mouse')] = 5\n",
        "sampleOHEDictManual[(2,'salmon')] = 6\n",
        "print(sampleOHEDictManual)"
      ],
      "execution_count": 10,
      "outputs": [
        {
          "output_type": "stream",
          "text": [
            "{(2, 'mouse'): 5, (0, 'cat'): 1, (0, 'bear'): 0, (2, 'salmon'): 6, (1, 'tabby'): 4, (1, 'black'): 3, (0, 'mouse'): 2}\n"
          ],
          "name": "stdout"
        }
      ]
    },
    {
      "cell_type": "code",
      "metadata": {
        "id": "lZjyWsnLiGZ0",
        "colab_type": "code",
        "outputId": "2c3bc571-41bf-48e4-a489-a613ac1dbcdb",
        "colab": {
          "base_uri": "https://localhost:8080/",
          "height": 156
        }
      },
      "source": [
        "# TEST One-hot-encoding (1a)\n",
        "from test_helper import Test\n",
        "\n",
        "Test.assertEqualsHashed(sampleOHEDictManual[(0,'bear')],\n",
        "                        'b6589fc6ab0dc82cf12099d1c2d40ab994e8410c',\n",
        "                        \"incorrect value for sampleOHEDictManual[(0,'bear')]\")\n",
        "Test.assertEqualsHashed(sampleOHEDictManual[(0,'cat')],\n",
        "                        '356a192b7913b04c54574d18c28d46e6395428ab',\n",
        "                        \"incorrect value for sampleOHEDictManual[(0,'cat')]\")\n",
        "Test.assertEqualsHashed(sampleOHEDictManual[(0,'mouse')],\n",
        "                        'da4b9237bacccdf19c0760cab7aec4a8359010b0',\n",
        "                        \"incorrect value for sampleOHEDictManual[(0,'mouse')]\")\n",
        "Test.assertEqualsHashed(sampleOHEDictManual[(1,'black')],\n",
        "                        '77de68daecd823babbb58edb1c8e14d7106e83bb',\n",
        "                        \"incorrect value for sampleOHEDictManual[(1,'black')]\")\n",
        "Test.assertEqualsHashed(sampleOHEDictManual[(1,'tabby')],\n",
        "                        '1b6453892473a467d07372d45eb05abc2031647a',\n",
        "                        \"incorrect value for sampleOHEDictManual[(1,'tabby')]\")\n",
        "Test.assertEqualsHashed(sampleOHEDictManual[(2,'mouse')],\n",
        "                        'ac3478d69a3c81fa62e60f5c3696165a4e5e6ac4',\n",
        "                        \"incorrect value for sampleOHEDictManual[(2,'mouse')]\")\n",
        "Test.assertEqualsHashed(sampleOHEDictManual[(2,'salmon')],\n",
        "                        'c1dfd96eea8cc2b62785275bca38ac261256e278',\n",
        "                        \"incorrect value for sampleOHEDictManual[(2,'salmon')]\")\n",
        "Test.assertEquals(len(sampleOHEDictManual.keys()), 7,\n",
        "                  'incorrect number of keys in sampleOHEDictManual')"
      ],
      "execution_count": 11,
      "outputs": [
        {
          "output_type": "stream",
          "text": [
            "1 test passed.\n",
            "1 test passed.\n",
            "1 test passed.\n",
            "1 test passed.\n",
            "1 test passed.\n",
            "1 test passed.\n",
            "1 test passed.\n",
            "1 test passed.\n"
          ],
          "name": "stdout"
        }
      ]
    },
    {
      "cell_type": "markdown",
      "metadata": {
        "id": "VnNngh1RiGZ3",
        "colab_type": "text"
      },
      "source": [
        "#### ** (1b) Sparse vectors **\n",
        "#### Data points can typically be represented with a small number of non-zero OHE features relative to the total number of features that occur in the dataset.  By leveraging this sparsity and using sparse vector representations of OHE data, we can reduce storage and computational burdens.  Below are a few sample vectors represented as dense numpy arrays.  Use [SparseVector](https://spark.apache.org/docs/latest/api/python/pyspark.mllib.html#pyspark.mllib.linalg.SparseVector) to represent them in a sparse fashion, and verify that both the sparse and dense representations yield the same results when computing [dot products](http://en.wikipedia.org/wiki/Dot_product) (we will later use MLlib to train classifiers via gradient descent, and MLlib will need to compute dot products between SparseVectors and dense parameter vectors).\n",
        "#### Use `SparseVector(size, *args)` to create a new sparse vector where size is the length of the vector and args is either a dictionary, a list of (index, value) pairs, or two separate arrays of indices and values (sorted by index).  You'll need to create a sparse vector representation of each dense vector `aDense` and `bDense`."
      ]
    },
    {
      "cell_type": "markdown",
      "metadata": {
        "id": "4TEcpeF3dfWD",
        "colab_type": "text"
      },
      "source": [
        "#! tips: SparseVector ,dot product"
      ]
    },
    {
      "cell_type": "code",
      "metadata": {
        "id": "TJL_XjAZiGZ4",
        "colab_type": "code",
        "colab": {}
      },
      "source": [
        "import numpy as np\n",
        "from pyspark.mllib.linalg import SparseVector"
      ],
      "execution_count": 0,
      "outputs": []
    },
    {
      "cell_type": "code",
      "metadata": {
        "id": "1RRRPfsniGZ7",
        "colab_type": "code",
        "outputId": "3f9fe1bf-a64f-4107-aa2d-540897404534",
        "colab": {
          "base_uri": "https://localhost:8080/",
          "height": 86
        }
      },
      "source": [
        "# TODO: Replace <FILL IN> with appropriate code\n",
        "aDense = np.array([0., 3., 0., 4.])\n",
        "aSparse = SparseVector(aDense.size,[1,3],[3.,4.])\n",
        "\n",
        "bDense = np.array([0., 0., 0., 1.])\n",
        "bSparse = SparseVector(aDense.size,[3],[1.])\n",
        "\n",
        "w = np.array([0.4, 3.1, -1.4, -.5])\n",
        "print aDense.dot(w)\n",
        "print aSparse.dot(w)\n",
        "print bDense.dot(w)\n",
        "print bSparse.dot(w)"
      ],
      "execution_count": 13,
      "outputs": [
        {
          "output_type": "stream",
          "text": [
            "7.300000000000001\n",
            "7.300000000000001\n",
            "-0.5\n",
            "-0.5\n"
          ],
          "name": "stdout"
        }
      ]
    },
    {
      "cell_type": "code",
      "metadata": {
        "id": "eH1qE-SXiGZ-",
        "colab_type": "code",
        "outputId": "c667ccf4-5ede-4657-9c59-cd3b157b94f3",
        "colab": {
          "base_uri": "https://localhost:8080/",
          "height": 86
        }
      },
      "source": [
        "# TEST Sparse Vectors (1b)\n",
        "Test.assertTrue(isinstance(aSparse, SparseVector), 'aSparse needs to be an instance of SparseVector')\n",
        "Test.assertTrue(isinstance(bSparse, SparseVector), 'aSparse needs to be an instance of SparseVector')\n",
        "Test.assertTrue(aDense.dot(w) == aSparse.dot(w),\n",
        "                'dot product of aDense and w should equal dot product of aSparse and w')\n",
        "Test.assertTrue(bDense.dot(w) == bSparse.dot(w),\n",
        "                'dot product of bDense and w should equal dot product of bSparse and w')"
      ],
      "execution_count": 19,
      "outputs": [
        {
          "output_type": "stream",
          "text": [
            "1 test passed.\n",
            "1 test passed.\n",
            "1 test passed.\n",
            "1 test passed.\n"
          ],
          "name": "stdout"
        }
      ]
    },
    {
      "cell_type": "markdown",
      "metadata": {
        "id": "9yHPPoCtiGaA",
        "colab_type": "text"
      },
      "source": [
        "#### **(1c) OHE features as sparse vectors **\n",
        "#### Now let's see how we can represent the OHE features for points in our sample dataset.  Using the mapping defined by the OHE dictionary from Part (1a), manually define OHE features for the three sample data points using SparseVector format.  Any feature that occurs in a point should have the value 1.0.  For example, the `DenseVector` for a point with features 2 and 4 would be `[0.0, 0.0, 1.0, 0.0, 1.0, 0.0, 0.0]`."
      ]
    },
    {
      "cell_type": "code",
      "metadata": {
        "id": "jhJSMEljiGaB",
        "colab_type": "code",
        "colab": {}
      },
      "source": [
        "# Reminder of the sample features\n",
        "# sampleOne = [(0, 'mouse'), (1, 'black')]\n",
        "# sampleTwo = [(0, 'cat'), (1, 'tabby'), (2, 'mouse')]\n",
        "# sampleThree =  [(0, 'bear'), (1, 'black'), (2, 'salmon')]\n",
        "# TODO: Replace <FILL IN> with appropriate code\n",
        "# sampleOHEDictManual = {}\n",
        "# sampleOHEDictManual[(0,'bear')] = 0\n",
        "# sampleOHEDictManual[(0,'cat')] = 1\n",
        "# sampleOHEDictManual[(0,'mouse')] = 2\n",
        "# sampleOHEDictManual[(1,'black')] = 3\n",
        "# sampleOHEDictManual[(1,'tabby')] = 4\n",
        "# sampleOHEDictManual[(2,'mouse')] = 5\n",
        "# sampleOHEDictManual[(2,'salmon')] = 6\n",
        "# print(sampleOHEDictManual)"
      ],
      "execution_count": 0,
      "outputs": []
    },
    {
      "cell_type": "code",
      "metadata": {
        "id": "hdPS26dViGaC",
        "colab_type": "code",
        "colab": {}
      },
      "source": [
        "# TODO: Replace <FILL IN> with appropriate code\n",
        "sampleOneOHEFeatManual = SparseVector(7,[2,3],[1,1])\n",
        "sampleTwoOHEFeatManual = SparseVector(7,[1,4,5],[1,1,1])\n",
        "sampleThreeOHEFeatManual = SparseVector(7,[0,3,6],[1,1,1])"
      ],
      "execution_count": 0,
      "outputs": []
    },
    {
      "cell_type": "code",
      "metadata": {
        "id": "aRKv4sCciGaF",
        "colab_type": "code",
        "outputId": "52b8dd96-def9-4946-87d5-1f4784f23b56",
        "colab": {
          "base_uri": "https://localhost:8080/",
          "height": 121
        }
      },
      "source": [
        "# TEST OHE Features as sparse vectors (1c)\n",
        "Test.assertTrue(isinstance(sampleOneOHEFeatManual, SparseVector),\n",
        "                'sampleOneOHEFeatManual needs to be a SparseVector')\n",
        "Test.assertTrue(isinstance(sampleTwoOHEFeatManual, SparseVector),\n",
        "                'sampleTwoOHEFeatManual needs to be a SparseVector')\n",
        "Test.assertTrue(isinstance(sampleThreeOHEFeatManual, SparseVector),\n",
        "                'sampleThreeOHEFeatManual needs to be a SparseVector')\n",
        "Test.assertEqualsHashed(sampleOneOHEFeatManual,\n",
        "                        'ecc00223d141b7bd0913d52377cee2cf5783abd6',\n",
        "                        'incorrect value for sampleOneOHEFeatManual')\n",
        "Test.assertEqualsHashed(sampleTwoOHEFeatManual,\n",
        "                        '26b023f4109e3b8ab32241938e2e9b9e9d62720a',\n",
        "                        'incorrect value for sampleTwoOHEFeatManual')\n",
        "Test.assertEqualsHashed(sampleThreeOHEFeatManual,\n",
        "                        'c04134fd603ae115395b29dcabe9d0c66fbdc8a7',\n",
        "                        'incorrect value for sampleThreeOHEFeatManual')"
      ],
      "execution_count": 22,
      "outputs": [
        {
          "output_type": "stream",
          "text": [
            "1 test passed.\n",
            "1 test passed.\n",
            "1 test passed.\n",
            "1 test passed.\n",
            "1 test passed.\n",
            "1 test passed.\n"
          ],
          "name": "stdout"
        }
      ]
    },
    {
      "cell_type": "markdown",
      "metadata": {
        "id": "FdHZWyrpiGaH",
        "colab_type": "text"
      },
      "source": [
        "#### **(1d) Define a OHE function **\n",
        "#### Next we will use the OHE dictionary from Part (1a) to programatically generate OHE features from the original categorical data.  First write a function called `oneHotEncoding` that creates OHE feature vectors in `SparseVector` format.  Then use this function to create OHE features for the first sample data point and verify that the result matches the result from Part (1c)."
      ]
    },
    {
      "cell_type": "code",
      "metadata": {
        "id": "QK8NxUciiGaI",
        "colab_type": "code",
        "outputId": "b1d425d1-67f5-4c6e-ecff-788cd842cc28",
        "colab": {
          "base_uri": "https://localhost:8080/",
          "height": 34
        }
      },
      "source": [
        "# TODO: Replace <FILL IN> with appropriate code\n",
        "def oneHotEncoding(rawFeats, OHEDict, numOHEFeats):\n",
        "    \"\"\"Produce a one-hot-encoding from a list of features and an OHE dictionary.\n",
        "\n",
        "    Note:\n",
        "        You should ensure that the indices used to create a SparseVector are sorted.\n",
        "\n",
        "    Args:\n",
        "        rawFeats (list of (int, str)): The features corresponding to a single observation.  Each\n",
        "            feature consists of a tuple of featureID and the feature's value. (e.g. sampleOne)\n",
        "        OHEDict (dict): A mapping of (featureID, value) to unique integer.\n",
        "        numOHEFeats (int): The total number of unique OHE features (combinations of featureID and\n",
        "            value).\n",
        "[(0, 'mouse'), (1, 'black')]      \n",
        "{(2, 'mouse'): 5, (0, 'cat'): 1, (0, 'bear'): 0, (2, 'salmon'): 6, (1, 'tabby'): 4, (1, 'black'): 3, (0, 'mouse'): 2}\n",
        "len({(2, 'mouse'): 5, (0, 'cat'): 1, (0, 'bear'): 0, (2, 'salmon'): 6, (1, 'tabby'): 4, (1, 'black'): 3, (0, 'mouse'): 2})\n",
        "    Returns:\n",
        "        SparseVector: A SparseVector of length numOHEFeats with indicies equal to the unique\n",
        "            identifiers for the (featureID, value) combinations that occur in the observation and\n",
        "            with values equal to 1.0.\n",
        "            \n",
        "    \"\"\"\n",
        "    # print(type(rawFeats))\n",
        "    indxOfFtre = sorted(list(map(lambda x: OHEDict[x] ,rawFeats)))\n",
        "    vlOfFtre = [1.0 for x in range(len(rawFeats))]\n",
        "    # print(indxOfFtre)\n",
        "    # print(vlOfFtre)\n",
        "    return SparseVector(len(OHEDict),indxOfFtre,vlOfFtre)\n",
        "# Calculate the number of features in sampleOHEDictManual\n",
        "numSampleOHEFeats = len(sampleOHEDictManual)\n",
        "\n",
        "# Run oneHotEnoding on sampleOne\n",
        "sampleOneOHEFeat = oneHotEncoding([(1, 'black'), (0, 'mouse')],sampleOHEDictManual,numSampleOHEFeats)\n",
        "\n",
        "print sampleOneOHEFeat"
      ],
      "execution_count": 23,
      "outputs": [
        {
          "output_type": "stream",
          "text": [
            "(7,[2,3],[1.0,1.0])\n"
          ],
          "name": "stdout"
        }
      ]
    },
    {
      "cell_type": "markdown",
      "metadata": {
        "id": "8xEpalWSdT5P",
        "colab_type": "text"
      },
      "source": [
        "# ! tips: map\n"
      ]
    },
    {
      "cell_type": "code",
      "metadata": {
        "id": "Rg7LRhx_LbAK",
        "colab_type": "code",
        "colab": {
          "base_uri": "https://localhost:8080/",
          "height": 34
        },
        "outputId": "73d1c2c4-0364-4d05-93cc-8c6e3814b9aa"
      },
      "source": [
        "sorted(list(map(lambda x: sampleOHEDictManual[x],[(1, 'black'), (0, 'mouse')])))"
      ],
      "execution_count": 40,
      "outputs": [
        {
          "output_type": "execute_result",
          "data": {
            "text/plain": [
              "[2, 3]"
            ]
          },
          "metadata": {
            "tags": []
          },
          "execution_count": 40
        }
      ]
    },
    {
      "cell_type": "code",
      "metadata": {
        "id": "irAVrucsXagB",
        "colab_type": "code",
        "colab": {
          "base_uri": "https://localhost:8080/",
          "height": 139
        },
        "outputId": "4a351712-9642-4a6a-c092-42b43c8e3124"
      },
      "source": [
        "sampleOHEDictManual"
      ],
      "execution_count": 41,
      "outputs": [
        {
          "output_type": "execute_result",
          "data": {
            "text/plain": [
              "{(0, 'bear'): 0,\n",
              " (0, 'cat'): 1,\n",
              " (0, 'mouse'): 2,\n",
              " (1, 'black'): 3,\n",
              " (1, 'tabby'): 4,\n",
              " (2, 'mouse'): 5,\n",
              " (2, 'salmon'): 6}"
            ]
          },
          "metadata": {
            "tags": []
          },
          "execution_count": 41
        }
      ]
    },
    {
      "cell_type": "code",
      "metadata": {
        "id": "5nUjfgJQiGaK",
        "colab_type": "code",
        "outputId": "bdbc7ca1-2825-4915-df31-b600850f2fc0",
        "colab": {
          "base_uri": "https://localhost:8080/",
          "height": 69
        }
      },
      "source": [
        "# TEST Define an OHE Function (1d)\n",
        "Test.assertTrue(sampleOneOHEFeat == sampleOneOHEFeatManual,\n",
        "                'sampleOneOHEFeat should equal sampleOneOHEFeatManual')\n",
        "Test.assertEquals(sampleOneOHEFeat, SparseVector(7, [2,3], [1.0,1.0]),\n",
        "                  'incorrect value for sampleOneOHEFeat')\n",
        "Test.assertEquals(oneHotEncoding([(1, 'black'), (0, 'mouse')], sampleOHEDictManual,\n",
        "                                 numSampleOHEFeats), SparseVector(7, [2,3], [1.0,1.0]),\n",
        "                  'incorrect definition for oneHotEncoding')"
      ],
      "execution_count": 29,
      "outputs": [
        {
          "output_type": "stream",
          "text": [
            "1 test passed.\n",
            "1 test passed.\n",
            "1 test passed.\n"
          ],
          "name": "stdout"
        }
      ]
    },
    {
      "cell_type": "markdown",
      "metadata": {
        "id": "1_8v3apOiGaL",
        "colab_type": "text"
      },
      "source": [
        "#### **(1e) Apply OHE to a dataset **\n",
        "#### Finally, use the function from Part (1d) to create OHE features for all 3 data points in the sample dataset."
      ]
    },
    {
      "cell_type": "code",
      "metadata": {
        "id": "6sF5G-pTYczA",
        "colab_type": "code",
        "colab": {
          "base_uri": "https://localhost:8080/",
          "height": 69
        },
        "outputId": "6a926a3b-1312-44a0-f6ee-fbd33ad69d31"
      },
      "source": [
        "sampleDataRDD.map(lambda x:x).collect()"
      ],
      "execution_count": 47,
      "outputs": [
        {
          "output_type": "execute_result",
          "data": {
            "text/plain": [
              "[[(0, 'mouse'), (1, 'black')],\n",
              " [(0, 'cat'), (1, 'tabby'), (2, 'mouse')],\n",
              " [(0, 'bear'), (1, 'black'), (2, 'salmon')]]"
            ]
          },
          "metadata": {
            "tags": []
          },
          "execution_count": 47
        }
      ]
    },
    {
      "cell_type": "code",
      "metadata": {
        "id": "8tQ6OyuWiGaM",
        "colab_type": "code",
        "outputId": "62d0c2bb-cab7-4038-bd2e-7498ac5ad024",
        "colab": {
          "base_uri": "https://localhost:8080/",
          "height": 34
        }
      },
      "source": [
        "# TODO: Replace <FILL IN> with appropriate code\n",
        "sampleOHEData = sampleDataRDD.map(lambda x: oneHotEncoding(x, sampleOHEDictManual, numSampleOHEFeats))\n",
        "print sampleOHEData.collect()"
      ],
      "execution_count": 49,
      "outputs": [
        {
          "output_type": "stream",
          "text": [
            "[SparseVector(7, {2: 1.0, 3: 1.0}), SparseVector(7, {1: 1.0, 4: 1.0, 5: 1.0}), SparseVector(7, {0: 1.0, 3: 1.0, 6: 1.0})]\n"
          ],
          "name": "stdout"
        }
      ]
    },
    {
      "cell_type": "code",
      "metadata": {
        "id": "t9yGcWz7iGaN",
        "colab_type": "code",
        "outputId": "e260083a-5a89-4016-f9e7-a1e19a4bc735",
        "colab": {
          "base_uri": "https://localhost:8080/",
          "height": 86
        }
      },
      "source": [
        "# TEST Apply OHE to a dataset (1e)\n",
        "sampleOHEDataValues = sampleOHEData.collect()\n",
        "Test.assertTrue(len(sampleOHEDataValues) == 3, 'sampleOHEData should have three elements')\n",
        "Test.assertEquals(sampleOHEDataValues[0], SparseVector(7, {2: 1.0, 3: 1.0}),\n",
        "                  'incorrect OHE for first sample')\n",
        "Test.assertEquals(sampleOHEDataValues[1], SparseVector(7, {1: 1.0, 4: 1.0, 5: 1.0}),\n",
        "                  'incorrect OHE for second sample')\n",
        "Test.assertEquals(sampleOHEDataValues[2], SparseVector(7, {0: 1.0, 3: 1.0, 6: 1.0}),\n",
        "                  'incorrect OHE for third sample')"
      ],
      "execution_count": 50,
      "outputs": [
        {
          "output_type": "stream",
          "text": [
            "1 test passed.\n",
            "1 test passed.\n",
            "1 test passed.\n",
            "1 test passed.\n"
          ],
          "name": "stdout"
        }
      ]
    },
    {
      "cell_type": "markdown",
      "metadata": {
        "id": "ywEFhmW7iGaP",
        "colab_type": "text"
      },
      "source": [
        "### ** Part 2: Construct an OHE dictionary **"
      ]
    },
    {
      "cell_type": "markdown",
      "metadata": {
        "id": "ilHPcGFFb1BF",
        "colab_type": "text"
      },
      "source": [
        "#! tips: flatMap , Distinct\n"
      ]
    },
    {
      "cell_type": "markdown",
      "metadata": {
        "id": "X1wre5I6iGaQ",
        "colab_type": "text"
      },
      "source": [
        "#### **(2a) Pair RDD of `(featureID, category)` **\n",
        "#### To start, create an RDD of distinct `(featureID, category)` tuples. In our sample dataset, the 7 items in the resulting RDD are `(0, 'bear')`, `(0, 'cat')`, `(0, 'mouse')`, `(1, 'black')`, `(1, 'tabby')`, `(2, 'mouse')`, `(2, 'salmon')`. Notably `'black'` appears twice in the dataset but only contributes one item to the RDD: `(1, 'black')`, while `'mouse'` also appears twice and contributes two items: `(0, 'mouse')` and `(2, 'mouse')`.  Use [flatMap](https://spark.apache.org/docs/latest/api/python/pyspark.html#pyspark.RDD.flatMap) and [distinct](https://spark.apache.org/docs/latest/api/python/pyspark.html#pyspark.RDD.distinct)."
      ]
    },
    {
      "cell_type": "code",
      "metadata": {
        "id": "_w8KsgaciGaQ",
        "colab_type": "code",
        "outputId": "772fb150-b14d-4e4c-9fb5-24b2e87e55a7",
        "colab": {
          "base_uri": "https://localhost:8080/",
          "height": 139
        }
      },
      "source": [
        "# TODO: Replace <FILL IN> with appropriate code\n",
        "sampleDistinctFeats = (sampleDataRDD.flatMap(lambda x: x).distinct())\n",
        "sampleDistinctFeats.collect()"
      ],
      "execution_count": 53,
      "outputs": [
        {
          "output_type": "execute_result",
          "data": {
            "text/plain": [
              "[(2, 'mouse'),\n",
              " (0, 'cat'),\n",
              " (0, 'bear'),\n",
              " (2, 'salmon'),\n",
              " (1, 'tabby'),\n",
              " (1, 'black'),\n",
              " (0, 'mouse')]"
            ]
          },
          "metadata": {
            "tags": []
          },
          "execution_count": 53
        }
      ]
    },
    {
      "cell_type": "code",
      "metadata": {
        "id": "LmsRWDQGiGaS",
        "colab_type": "code",
        "outputId": "6fb21a1b-a7c9-44f3-a6f1-fbf76564eb9d",
        "colab": {
          "base_uri": "https://localhost:8080/",
          "height": 34
        }
      },
      "source": [
        "# TEST Pair RDD of (featureID, category) (2a)\n",
        "Test.assertEquals(sorted(sampleDistinctFeats.collect()),\n",
        "                  [(0, 'bear'), (0, 'cat'), (0, 'mouse'), (1, 'black'),\n",
        "                   (1, 'tabby'), (2, 'mouse'), (2, 'salmon')],\n",
        "                  'incorrect value for sampleDistinctFeats')"
      ],
      "execution_count": 54,
      "outputs": [
        {
          "output_type": "stream",
          "text": [
            "1 test passed.\n"
          ],
          "name": "stdout"
        }
      ]
    },
    {
      "cell_type": "code",
      "metadata": {
        "id": "7egXJBIrcdX6",
        "colab_type": "code",
        "colab": {
          "base_uri": "https://localhost:8080/",
          "height": 86
        },
        "outputId": "9f9e4741-31cf-4bc1-929a-5ddbf3dfb0fe"
      },
      "source": [
        "print(sampleDataRDD.collect())\n",
        "print(sampleDataRDD.map(lambda x:x).collect())\n",
        "print(sampleDataRDD.flatMap(lambda x:x).collect())\n",
        "print(sampleDataRDD.flatMap(lambda x:x).distinct().collect())"
      ],
      "execution_count": 62,
      "outputs": [
        {
          "output_type": "stream",
          "text": [
            "[[(0, 'mouse'), (1, 'black')], [(0, 'cat'), (1, 'tabby'), (2, 'mouse')], [(0, 'bear'), (1, 'black'), (2, 'salmon')]]\n",
            "[[(0, 'mouse'), (1, 'black')], [(0, 'cat'), (1, 'tabby'), (2, 'mouse')], [(0, 'bear'), (1, 'black'), (2, 'salmon')]]\n",
            "[(0, 'mouse'), (1, 'black'), (0, 'cat'), (1, 'tabby'), (2, 'mouse'), (0, 'bear'), (1, 'black'), (2, 'salmon')]\n",
            "[(2, 'mouse'), (0, 'cat'), (0, 'bear'), (2, 'salmon'), (1, 'tabby'), (1, 'black'), (0, 'mouse')]\n"
          ],
          "name": "stdout"
        }
      ]
    },
    {
      "cell_type": "markdown",
      "metadata": {
        "id": "X-FE2jFkiGaT",
        "colab_type": "text"
      },
      "source": [
        "#### ** (2b) OHE Dictionary from distinct features **\n",
        "#### Next, create an `RDD` of key-value tuples, where each `(featureID, category)` tuple in `sampleDistinctFeats` is a key and the values are distinct integers ranging from 0 to (number of keys - 1).  Then convert this `RDD` into a dictionary, which can be done using the `collectAsMap` action.  Note that there is no unique mapping from keys to values, as all we require is that each `(featureID, category)` key be mapped to a unique integer between 0 and the number of keys.  In this exercise, any valid mapping is acceptable.  Use [zipWithIndex](https://spark.apache.org/docs/latest/api/python/pyspark.html#pyspark.RDD.zipWithIndex) followed by [collectAsMap](https://spark.apache.org/docs/latest/api/python/pyspark.html#pyspark.RDD.collectAsMap).\n",
        "#### In our sample dataset, one valid list of key-value tuples is: `[((0, 'bear'), 0), ((2, 'salmon'), 1), ((1, 'tabby'), 2), ((2, 'mouse'), 3), ((0, 'mouse'), 4), ((0, 'cat'), 5), ((1, 'black'), 6)]`. The dictionary defined in Part (1a) illustrates another valid mapping between keys and integers."
      ]
    },
    {
      "cell_type": "markdown",
      "metadata": {
        "id": "GlxaLNtjeBpP",
        "colab_type": "text"
      },
      "source": [
        "#! tips: zipWithIndex,collectAsMap\n"
      ]
    },
    {
      "cell_type": "code",
      "metadata": {
        "id": "qKbslQBqeMzk",
        "colab_type": "code",
        "colab": {
          "base_uri": "https://localhost:8080/",
          "height": 139
        },
        "outputId": "04bbd904-b707-4589-affd-2aa2a64c9fb7"
      },
      "source": [
        "sampleDistinctFeats.zipWithIndex().collect()"
      ],
      "execution_count": 73,
      "outputs": [
        {
          "output_type": "execute_result",
          "data": {
            "text/plain": [
              "[((2, 'mouse'), 0),\n",
              " ((0, 'cat'), 1),\n",
              " ((0, 'bear'), 2),\n",
              " ((2, 'salmon'), 3),\n",
              " ((1, 'tabby'), 4),\n",
              " ((1, 'black'), 5),\n",
              " ((0, 'mouse'), 6)]"
            ]
          },
          "metadata": {
            "tags": []
          },
          "execution_count": 73
        }
      ]
    },
    {
      "cell_type": "code",
      "metadata": {
        "id": "6u3VgZbDiGaU",
        "colab_type": "code",
        "outputId": "8f5179a0-da10-4dba-c11b-8751b450faa0",
        "colab": {
          "base_uri": "https://localhost:8080/",
          "height": 34
        }
      },
      "source": [
        "# TODO: Replace <FILL IN> with appropriate code\n",
        "sampleOHEDict = (sampleDistinctFeats.zipWithIndex().collectAsMap())\n",
        "print sampleOHEDict"
      ],
      "execution_count": 65,
      "outputs": [
        {
          "output_type": "stream",
          "text": [
            "{(2, 'mouse'): 0, (0, 'cat'): 1, (0, 'bear'): 2, (2, 'salmon'): 3, (1, 'tabby'): 4, (1, 'black'): 5, (0, 'mouse'): 6}\n"
          ],
          "name": "stdout"
        }
      ]
    },
    {
      "cell_type": "code",
      "metadata": {
        "id": "Zl8hFpiteuJU",
        "colab_type": "code",
        "colab": {
          "base_uri": "https://localhost:8080/",
          "height": 139
        },
        "outputId": "b03afa31-7ef9-40ea-da7f-461be9a38674"
      },
      "source": [
        "sampleOHEDict.keys()"
      ],
      "execution_count": 75,
      "outputs": [
        {
          "output_type": "execute_result",
          "data": {
            "text/plain": [
              "[(2, 'mouse'),\n",
              " (0, 'cat'),\n",
              " (0, 'bear'),\n",
              " (2, 'salmon'),\n",
              " (1, 'tabby'),\n",
              " (1, 'black'),\n",
              " (0, 'mouse')]"
            ]
          },
          "metadata": {
            "tags": []
          },
          "execution_count": 75
        }
      ]
    },
    {
      "cell_type": "code",
      "metadata": {
        "id": "lkfx5DmOiGaV",
        "colab_type": "code",
        "outputId": "03bce9b9-af4f-47ae-9d57-449ce069e693",
        "colab": {
          "base_uri": "https://localhost:8080/",
          "height": 52
        }
      },
      "source": [
        "# TEST OHE Dictionary from distinct features (2b)\n",
        "Test.assertEquals(sorted(sampleOHEDict.keys()),\n",
        "                  [(0, 'bear'), (0, 'cat'), (0, 'mouse'), (1, 'black'),\n",
        "                   (1, 'tabby'), (2, 'mouse'), (2, 'salmon')],\n",
        "                  'sampleOHEDict has unexpected keys')\n",
        "Test.assertEquals(sorted(sampleOHEDict.values()), range(7), 'sampleOHEDict has unexpected values')"
      ],
      "execution_count": 66,
      "outputs": [
        {
          "output_type": "stream",
          "text": [
            "1 test passed.\n",
            "1 test passed.\n"
          ],
          "name": "stdout"
        }
      ]
    },
    {
      "cell_type": "markdown",
      "metadata": {
        "id": "JEJamHPqiGaX",
        "colab_type": "text"
      },
      "source": [
        "#### **(2c) Automated creation of an OHE dictionary **\n",
        "#### Now use the code from Parts (2a) and (2b) to write a function that takes an input dataset and outputs an OHE dictionary.  Then use this function to create an OHE dictionary for the sample dataset, and verify that it matches the dictionary from Part (2b)."
      ]
    },
    {
      "cell_type": "code",
      "metadata": {
        "id": "l8oFm1ileSod",
        "colab_type": "code",
        "outputId": "5f367ae8-88e8-4978-9fd6-3dec4c2f52e3",
        "colab": {
          "base_uri": "https://localhost:8080/",
          "height": 34
        }
      },
      "source": [
        "sampleDataRDD.flatMap(lambda x: x).distinct().zipWithIndex().collectAsMap().keys()\n",
        "sampleDataRDD.flatMap(lambda x: x).distinct().zipWithIndex().collectAsMap().values()"
      ],
      "execution_count": 76,
      "outputs": [
        {
          "output_type": "execute_result",
          "data": {
            "text/plain": [
              "[0, 1, 2, 3, 4, 5, 6]"
            ]
          },
          "metadata": {
            "tags": []
          },
          "execution_count": 76
        }
      ]
    },
    {
      "cell_type": "code",
      "metadata": {
        "id": "rc0J6Dr5iGaX",
        "colab_type": "code",
        "outputId": "f118f11e-0f90-42be-a5c7-b7aa6e6b41b3",
        "colab": {
          "base_uri": "https://localhost:8080/",
          "height": 54
        }
      },
      "source": [
        "# TODO: Replace <FILL IN> with appropriate code\n",
        "def createOneHotDict(inputData):\n",
        "    \"\"\"Creates a one-hot-encoder dictionary based on the input data.\n",
        "\n",
        "    Args:\n",
        "        inputData (RDD of lists of (int, str)): An RDD of observations where each observation is\n",
        "            made up of a list of (featureID, value) tuples.\n",
        "\n",
        "    Returns:\n",
        "        dict: A dictionary where the keys are (featureID, value) tuples and map to values that are\n",
        "            unique integers.\n",
        "    \"\"\"\n",
        "    return(inputData.flatMap(lambda x: x).distinct().zipWithIndex().collectAsMap())\n",
        "\n",
        "sampleOHEDictAuto = createOneHotDict(sampleDataRDD)\n",
        "print sampleOHEDictAuto"
      ],
      "execution_count": 0,
      "outputs": [
        {
          "output_type": "stream",
          "text": [
            "{(2, 'mouse'): 0, (0, 'cat'): 1, (0, 'bear'): 2, (2, 'salmon'): 3, (1, 'tabby'): 4, (1, 'black'): 5, (0, 'mouse'): 6}\n"
          ],
          "name": "stdout"
        }
      ]
    },
    {
      "cell_type": "code",
      "metadata": {
        "id": "D5A_r0YbiGaZ",
        "colab_type": "code",
        "outputId": "41401cc4-6f42-4aa5-e424-7e3dd8813880",
        "colab": {
          "base_uri": "https://localhost:8080/",
          "height": 52
        }
      },
      "source": [
        "# TEST Automated creation of an OHE dictionary (2c)\n",
        "Test.assertEquals(sorted(sampleOHEDictAuto.keys()),\n",
        "                  [(0, 'bear'), (0, 'cat'), (0, 'mouse'), (1, 'black'),\n",
        "                   (1, 'tabby'), (2, 'mouse'), (2, 'salmon')],\n",
        "                  'sampleOHEDictAuto has unexpected keys')\n",
        "Test.assertEquals(sorted(sampleOHEDictAuto.values()), range(7),\n",
        "                  'sampleOHEDictAuto has unexpected values')"
      ],
      "execution_count": 0,
      "outputs": [
        {
          "output_type": "stream",
          "text": [
            "1 test passed.\n",
            "1 test passed.\n"
          ],
          "name": "stdout"
        }
      ]
    },
    {
      "cell_type": "markdown",
      "metadata": {
        "id": "UcLXq6C7iGaa",
        "colab_type": "text"
      },
      "source": [
        "### **Part 3: Parse CTR data and generate OHE features**"
      ]
    },
    {
      "cell_type": "markdown",
      "metadata": {
        "id": "rJ7xCU9JiGab",
        "colab_type": "text"
      },
      "source": [
        "#### Before we can proceed, you'll first need to obtain the data from Criteo.  If you have already completed this step in the setup lab, just run the cells below and the data will be loaded into the `rawData` variable.\n",
        "#### Below is Criteo's data sharing agreement.  After you accept the agreement, you can obtain the download URL by right-clicking on the \"Download Sample\" button and clicking \"Copy link address\" or \"Copy Link Location\", depending on your browser.  Paste the URL into the `# TODO` cell below.  The file is 8.4 MB compressed.  The script below will download the file to the virtual machine (VM) and then extract the data.\n",
        "#### If running the cell below does not render a webpage, open the [Criteo agreement](http://labs.criteo.com/downloads/2014-kaggle-display-advertising-challenge-dataset/) in a separate browser tab.  After you accept the agreement, you can obtain the download URL by right-clicking on the \"Download Sample\" button and clicking \"Copy link address\" or \"Copy Link Location\", depending on your browser.  Paste the URL into the `# TODO` cell below.\n",
        "#### Note that the download could take a few minutes, depending upon your connection speed."
      ]
    },
    {
      "cell_type": "code",
      "metadata": {
        "id": "BXnYQt7hiGab",
        "colab_type": "code",
        "outputId": "12f8b60b-c7be-473b-aa97-99ddeb71ab15",
        "colab": {
          "base_uri": "https://localhost:8080/",
          "height": 17
        }
      },
      "source": [
        "# Run this code to view Criteo's agreement\n",
        "from IPython.lib.display import IFrame\n",
        "\n",
        "IFrame(\"http://labs.criteo.com/downloads/2014-kaggle-display-advertising-challenge-dataset/\",\n",
        "       600, 350)"
      ],
      "execution_count": 77,
      "outputs": [
        {
          "output_type": "execute_result",
          "data": {
            "text/plain": [
              "<IPython.lib.display.IFrame at 0x7f750aac7310>"
            ],
            "text/html": [
              "\n",
              "        <iframe\n",
              "            width=\"600\"\n",
              "            height=\"350\"\n",
              "            src=\"http://labs.criteo.com/downloads/2014-kaggle-display-advertising-challenge-dataset/\"\n",
              "            frameborder=\"0\"\n",
              "            allowfullscreen\n",
              "        ></iframe>\n",
              "        "
            ]
          },
          "metadata": {
            "tags": []
          },
          "execution_count": 77
        }
      ]
    },
    {
      "cell_type": "code",
      "metadata": {
        "id": "eXkJ-hBHiGac",
        "colab_type": "code",
        "outputId": "e962d69d-8221-41b5-f26b-071161b79377",
        "colab": {
          "base_uri": "https://localhost:8080/",
          "height": 34
        }
      },
      "source": [
        "# TODO: Replace <FILL IN> with appropriate code\n",
        "# Just replace <FILL IN> with the url for dac_sample.tar.gz\n",
        "import glob\n",
        "import os.path\n",
        "import tarfile\n",
        "import urllib\n",
        "import urlparse\n",
        "\n",
        "# Paste url, url should end with: dac_sample.tar.gz\n",
        "url = 'http://www.cp.eng.chula.ac.th/~boonserm/teaching/bda/dac_sample.txt'\n",
        "\n",
        "url = url.strip()\n",
        "baseDir = os.path.join('data')\n",
        "inputPath = os.path.join('cs190', 'dac_sample.txt')\n",
        "fileName = 'dac_sample.txt'\n",
        "inputDir = 'dac_sample.txt'\n",
        "\n",
        "def extractTar(check = False):\n",
        "    # Find the zipped archive and extract the dataset\n",
        "    tars = glob.glob('dac_sample*.tar.gz*')\n",
        "    if check and len(tars) == 0:\n",
        "      return False\n",
        "\n",
        "    if len(tars) > 0:\n",
        "        try:\n",
        "            tarFile = tarfile.open(tars[0])\n",
        "        except tarfile.ReadError:\n",
        "            if not check:\n",
        "                print 'Unable to open tar.gz file.  Check your URL.'\n",
        "            return False\n",
        "\n",
        "        tarFile.extract('dac_sample.txt', path=inputDir)\n",
        "        print 'Successfully extracted: dac_sample.txt'\n",
        "        return True\n",
        "    else:\n",
        "        print 'You need to retry the download with the correct url.'\n",
        "        print ('Alternatively, you can upload the dac_sample.tar.gz file to your Jupyter root ' +\n",
        "              'directory')\n",
        "        return False\n",
        "\n",
        "\n",
        "if os.path.isfile(fileName):\n",
        "    print 'File is already available. Nothing to do.'\n",
        "elif extractTar(check = True):\n",
        "    print 'tar.gz file was already available.'\n",
        "elif not url.endswith('dac_sample.tar.gz'):\n",
        "    print 'Check your download url.  Are you downloading the Sample dataset?'\n",
        "else:\n",
        "    # Download the file and store it in the same directory as this notebook\n",
        "    try:\n",
        "        urllib.urlretrieve(url, os.path.basename(urlparse.urlsplit(url).path))\n",
        "    except IOError:\n",
        "        print 'Unable to download and store: {0}'.format(url)\n",
        "\n",
        "    extractTar()"
      ],
      "execution_count": 95,
      "outputs": [
        {
          "output_type": "stream",
          "text": [
            "Check your download url.  Are you downloading the Sample dataset?\n"
          ],
          "name": "stdout"
        }
      ]
    },
    {
      "cell_type": "code",
      "metadata": {
        "id": "AuH6aB6Nhi4o",
        "colab_type": "code",
        "colab": {
          "base_uri": "https://localhost:8080/",
          "height": 69
        },
        "outputId": "3d1e60e4-41e8-4541-d1a5-80b2c7a92cef"
      },
      "source": [
        "!wget http://www.cp.eng.chula.ac.th/~boonserm/teaching/bda/dac_sample.txt"
      ],
      "execution_count": 96,
      "outputs": [
        {
          "output_type": "stream",
          "text": [
            "--2020-04-30 09:59:23--  http://www.cp.eng.chula.ac.th/~boonserm/teaching/bda/dac_sample.txt\n",
            "Resolving www.cp.eng.chula.ac.th (www.cp.eng.chula.ac.th)... failed: Temporary failure in name resolution.\n",
            "wget: unable to resolve host address ‘www.cp.eng.chula.ac.th’\n"
          ],
          "name": "stdout"
        }
      ]
    },
    {
      "cell_type": "markdown",
      "metadata": {
        "id": "tFkTOMGgf-Gx",
        "colab_type": "text"
      },
      "source": [
        "#!tips: read file"
      ]
    },
    {
      "cell_type": "code",
      "metadata": {
        "id": "yDTv66fwhH03",
        "colab_type": "code",
        "colab": {
          "base_uri": "https://localhost:8080/",
          "height": 34
        },
        "outputId": "03a678c0-aab4-461f-b83f-ed31e3ef6663"
      },
      "source": [
        "!ls"
      ],
      "execution_count": 94,
      "outputs": [
        {
          "output_type": "stream",
          "text": [
            "sample_data  spark-2.4.5-bin-hadoop2.7\tspark-2.4.5-bin-hadoop2.7.tgz\n"
          ],
          "name": "stdout"
        }
      ]
    },
    {
      "cell_type": "code",
      "metadata": {
        "id": "-7kFWyBtgIen",
        "colab_type": "code",
        "colab": {
          "base_uri": "https://localhost:8080/",
          "height": 780
        },
        "outputId": "ee9dd8c8-4a61-49e7-db77-f547fa5ee289"
      },
      "source": [
        "test = sc.textFile(fileName).map(lambda x: x.replace('\\t', ','))\n",
        "test.take(1)"
      ],
      "execution_count": 92,
      "outputs": [
        {
          "output_type": "error",
          "ename": "Py4JJavaError",
          "evalue": "ignored",
          "traceback": [
            "\u001b[0;31m\u001b[0m",
            "\u001b[0;31mPy4JJavaError\u001b[0mTraceback (most recent call last)",
            "\u001b[0;32m<ipython-input-92-1a9e0e233d9d>\u001b[0m in \u001b[0;36m<module>\u001b[0;34m()\u001b[0m\n\u001b[1;32m      1\u001b[0m \u001b[0mtest\u001b[0m \u001b[0;34m=\u001b[0m \u001b[0msc\u001b[0m\u001b[0;34m.\u001b[0m\u001b[0mtextFile\u001b[0m\u001b[0;34m(\u001b[0m\u001b[0mfileName\u001b[0m\u001b[0;34m)\u001b[0m\u001b[0;34m.\u001b[0m\u001b[0mmap\u001b[0m\u001b[0;34m(\u001b[0m\u001b[0;32mlambda\u001b[0m \u001b[0mx\u001b[0m\u001b[0;34m:\u001b[0m \u001b[0mx\u001b[0m\u001b[0;34m.\u001b[0m\u001b[0mreplace\u001b[0m\u001b[0;34m(\u001b[0m\u001b[0;34m'\\t'\u001b[0m\u001b[0;34m,\u001b[0m \u001b[0;34m','\u001b[0m\u001b[0;34m)\u001b[0m\u001b[0;34m)\u001b[0m\u001b[0;34m\u001b[0m\u001b[0m\n\u001b[0;32m----> 2\u001b[0;31m \u001b[0mtest\u001b[0m\u001b[0;34m.\u001b[0m\u001b[0mtake\u001b[0m\u001b[0;34m(\u001b[0m\u001b[0;36m1\u001b[0m\u001b[0;34m)\u001b[0m\u001b[0;34m\u001b[0m\u001b[0m\n\u001b[0m",
            "\u001b[0;32m/content/spark-2.4.5-bin-hadoop2.7/python/pyspark/rdd.py\u001b[0m in \u001b[0;36mtake\u001b[0;34m(self, num)\u001b[0m\n\u001b[1;32m   1325\u001b[0m         \"\"\"\n\u001b[1;32m   1326\u001b[0m         \u001b[0mitems\u001b[0m \u001b[0;34m=\u001b[0m \u001b[0;34m[\u001b[0m\u001b[0;34m]\u001b[0m\u001b[0;34m\u001b[0m\u001b[0m\n\u001b[0;32m-> 1327\u001b[0;31m         \u001b[0mtotalParts\u001b[0m \u001b[0;34m=\u001b[0m \u001b[0mself\u001b[0m\u001b[0;34m.\u001b[0m\u001b[0mgetNumPartitions\u001b[0m\u001b[0;34m(\u001b[0m\u001b[0;34m)\u001b[0m\u001b[0;34m\u001b[0m\u001b[0m\n\u001b[0m\u001b[1;32m   1328\u001b[0m         \u001b[0mpartsScanned\u001b[0m \u001b[0;34m=\u001b[0m \u001b[0;36m0\u001b[0m\u001b[0;34m\u001b[0m\u001b[0m\n\u001b[1;32m   1329\u001b[0m \u001b[0;34m\u001b[0m\u001b[0m\n",
            "\u001b[0;32m/content/spark-2.4.5-bin-hadoop2.7/python/pyspark/rdd.py\u001b[0m in \u001b[0;36mgetNumPartitions\u001b[0;34m(self)\u001b[0m\n\u001b[1;32m   2515\u001b[0m \u001b[0;34m\u001b[0m\u001b[0m\n\u001b[1;32m   2516\u001b[0m     \u001b[0;32mdef\u001b[0m \u001b[0mgetNumPartitions\u001b[0m\u001b[0;34m(\u001b[0m\u001b[0mself\u001b[0m\u001b[0;34m)\u001b[0m\u001b[0;34m:\u001b[0m\u001b[0;34m\u001b[0m\u001b[0m\n\u001b[0;32m-> 2517\u001b[0;31m         \u001b[0;32mreturn\u001b[0m \u001b[0mself\u001b[0m\u001b[0;34m.\u001b[0m\u001b[0m_prev_jrdd\u001b[0m\u001b[0;34m.\u001b[0m\u001b[0mpartitions\u001b[0m\u001b[0;34m(\u001b[0m\u001b[0;34m)\u001b[0m\u001b[0;34m.\u001b[0m\u001b[0msize\u001b[0m\u001b[0;34m(\u001b[0m\u001b[0;34m)\u001b[0m\u001b[0;34m\u001b[0m\u001b[0m\n\u001b[0m\u001b[1;32m   2518\u001b[0m \u001b[0;34m\u001b[0m\u001b[0m\n\u001b[1;32m   2519\u001b[0m     \u001b[0;34m@\u001b[0m\u001b[0mproperty\u001b[0m\u001b[0;34m\u001b[0m\u001b[0m\n",
            "\u001b[0;32m/content/spark-2.4.5-bin-hadoop2.7/python/lib/py4j-0.10.7-src.zip/py4j/java_gateway.py\u001b[0m in \u001b[0;36m__call__\u001b[0;34m(self, *args)\u001b[0m\n\u001b[1;32m   1255\u001b[0m         \u001b[0manswer\u001b[0m \u001b[0;34m=\u001b[0m \u001b[0mself\u001b[0m\u001b[0;34m.\u001b[0m\u001b[0mgateway_client\u001b[0m\u001b[0;34m.\u001b[0m\u001b[0msend_command\u001b[0m\u001b[0;34m(\u001b[0m\u001b[0mcommand\u001b[0m\u001b[0;34m)\u001b[0m\u001b[0;34m\u001b[0m\u001b[0m\n\u001b[1;32m   1256\u001b[0m         return_value = get_return_value(\n\u001b[0;32m-> 1257\u001b[0;31m             answer, self.gateway_client, self.target_id, self.name)\n\u001b[0m\u001b[1;32m   1258\u001b[0m \u001b[0;34m\u001b[0m\u001b[0m\n\u001b[1;32m   1259\u001b[0m         \u001b[0;32mfor\u001b[0m \u001b[0mtemp_arg\u001b[0m \u001b[0;32min\u001b[0m \u001b[0mtemp_args\u001b[0m\u001b[0;34m:\u001b[0m\u001b[0;34m\u001b[0m\u001b[0m\n",
            "\u001b[0;32m/content/spark-2.4.5-bin-hadoop2.7/python/lib/py4j-0.10.7-src.zip/py4j/protocol.py\u001b[0m in \u001b[0;36mget_return_value\u001b[0;34m(answer, gateway_client, target_id, name)\u001b[0m\n\u001b[1;32m    326\u001b[0m                 raise Py4JJavaError(\n\u001b[1;32m    327\u001b[0m                     \u001b[0;34m\"An error occurred while calling {0}{1}{2}.\\n\"\u001b[0m\u001b[0;34m.\u001b[0m\u001b[0;34m\u001b[0m\u001b[0m\n\u001b[0;32m--> 328\u001b[0;31m                     format(target_id, \".\", name), value)\n\u001b[0m\u001b[1;32m    329\u001b[0m             \u001b[0;32melse\u001b[0m\u001b[0;34m:\u001b[0m\u001b[0;34m\u001b[0m\u001b[0m\n\u001b[1;32m    330\u001b[0m                 raise Py4JError(\n",
            "\u001b[0;31mPy4JJavaError\u001b[0m: An error occurred while calling o467.partitions.\n: org.apache.hadoop.mapred.InvalidInputException: Input path does not exist: file:/content/dac_sample.txt\n\tat org.apache.hadoop.mapred.FileInputFormat.singleThreadedListStatus(FileInputFormat.java:287)\n\tat org.apache.hadoop.mapred.FileInputFormat.listStatus(FileInputFormat.java:229)\n\tat org.apache.hadoop.mapred.FileInputFormat.getSplits(FileInputFormat.java:315)\n\tat org.apache.spark.rdd.HadoopRDD.getPartitions(HadoopRDD.scala:204)\n\tat org.apache.spark.rdd.RDD$$anonfun$partitions$2.apply(RDD.scala:273)\n\tat org.apache.spark.rdd.RDD$$anonfun$partitions$2.apply(RDD.scala:269)\n\tat scala.Option.getOrElse(Option.scala:121)\n\tat org.apache.spark.rdd.RDD.partitions(RDD.scala:269)\n\tat org.apache.spark.rdd.MapPartitionsRDD.getPartitions(MapPartitionsRDD.scala:49)\n\tat org.apache.spark.rdd.RDD$$anonfun$partitions$2.apply(RDD.scala:273)\n\tat org.apache.spark.rdd.RDD$$anonfun$partitions$2.apply(RDD.scala:269)\n\tat scala.Option.getOrElse(Option.scala:121)\n\tat org.apache.spark.rdd.RDD.partitions(RDD.scala:269)\n\tat org.apache.spark.api.java.JavaRDDLike$class.partitions(JavaRDDLike.scala:61)\n\tat org.apache.spark.api.java.AbstractJavaRDDLike.partitions(JavaRDDLike.scala:45)\n\tat sun.reflect.GeneratedMethodAccessor62.invoke(Unknown Source)\n\tat sun.reflect.DelegatingMethodAccessorImpl.invoke(DelegatingMethodAccessorImpl.java:43)\n\tat java.lang.reflect.Method.invoke(Method.java:498)\n\tat py4j.reflection.MethodInvoker.invoke(MethodInvoker.java:244)\n\tat py4j.reflection.ReflectionEngine.invoke(ReflectionEngine.java:357)\n\tat py4j.Gateway.invoke(Gateway.java:282)\n\tat py4j.commands.AbstractCommand.invokeMethod(AbstractCommand.java:132)\n\tat py4j.commands.CallCommand.execute(CallCommand.java:79)\n\tat py4j.GatewayConnection.run(GatewayConnection.java:238)\n\tat java.lang.Thread.run(Thread.java:748)\n"
          ]
        }
      ]
    },
    {
      "cell_type": "code",
      "metadata": {
        "id": "vkFEA3SDiGad",
        "colab_type": "code",
        "colab": {}
      },
      "source": [
        "import os.path\n",
        "baseDir = os.path.join('data')\n",
        "inputPath = os.path.join('cs190', 'dac_sample.txt')\n",
        "fileName = 'dac_sample.txt'\n",
        "\n",
        "if os.path.isfile(fileName):\n",
        "    rawData = (sc\n",
        "               .textFile(fileName, 2)\n",
        "               .map(lambda x: x.replace('\\t', ',')))  # work with either ',' or '\\t' separated data\n",
        "    print rawData.take(1)"
      ],
      "execution_count": 0,
      "outputs": []
    },
    {
      "cell_type": "markdown",
      "metadata": {
        "id": "JvETA1KdiGaf",
        "colab_type": "text"
      },
      "source": [
        "#### **(3a) Loading and splitting the data **\n",
        "#### We are now ready to start working with the actual CTR data, and our first task involves splitting it into training, validation, and test sets.  Use the [randomSplit method](https://spark.apache.org/docs/latest/api/python/pyspark.html#pyspark.RDD.randomSplit) with the specified weights and seed to create RDDs storing each of these datasets, and then [cache](https://spark.apache.org/docs/latest/api/python/pyspark.html#pyspark.RDD.cache) each of these RDDs, as we will be accessing them multiple times in the remainder of this lab. Finally, compute the size of each dataset."
      ]
    },
    {
      "cell_type": "code",
      "metadata": {
        "id": "F3LJLdMsiGaf",
        "colab_type": "code",
        "outputId": "b67d5702-6f4b-4445-e8ec-76ed7ace01d4",
        "colab": {
          "base_uri": "https://localhost:8080/",
          "height": 72
        }
      },
      "source": [
        "# TODO: Replace <FILL IN> with appropriate code\n",
        "weights = [.8, .1, .1]\n",
        "seed = 42\n",
        "# Use randomSplit with weights and seed\n",
        "rawTrainData, rawValidationData, rawTestData = rawData.randomSplit(weights,seed)\n",
        "# Cache the data\n",
        "rawTrainData.cache()\n",
        "rawValidationData.cache()\n",
        "rawTestData.cache()\n",
        "\n",
        "nTrain = rawTrainData.count()\n",
        "nVal = rawValidationData.count()\n",
        "nTest = rawTestData.count()\n",
        "print nTrain, nVal, nTest, nTrain + nVal + nTest\n",
        "print rawData.take(1)"
      ],
      "execution_count": 0,
      "outputs": [
        {
          "output_type": "stream",
          "text": [
            "79911 10075 10014 100000\n",
            "[u'0,1,1,5,0,1382,4,15,2,181,1,2,,2,68fd1e64,80e26c9b,fb936136,7b4723c4,25c83c98,7e0ccccf,de7995b8,1f89b562,a73ee510,a8cd5504,b2cb9c98,37c9c164,2824a5f6,1adce6ef,8ba8b39a,891b62e7,e5ba7672,f54016b9,21ddcdc9,b1252a9d,07b5194c,,3a171ecb,c5c50484,e8b83407,9727dd16']\n"
          ],
          "name": "stdout"
        }
      ]
    },
    {
      "cell_type": "code",
      "metadata": {
        "id": "yUkJJcTaiGag",
        "colab_type": "code",
        "outputId": "657940c8-da81-4140-c685-0ce158fb0855",
        "colab": {
          "base_uri": "https://localhost:8080/",
          "height": 86
        }
      },
      "source": [
        "# TEST Loading and splitting the data (3a)\n",
        "Test.assertTrue(all([rawTrainData.is_cached, rawValidationData.is_cached, rawTestData.is_cached]),\n",
        "                'you must cache the split data')\n",
        "Test.assertEquals(nTrain, 79911, 'incorrect value for nTrain')\n",
        "Test.assertEquals(nVal, 10075, 'incorrect value for nVal')\n",
        "Test.assertEquals(nTest, 10014, 'incorrect value for nTest')"
      ],
      "execution_count": 0,
      "outputs": [
        {
          "output_type": "stream",
          "text": [
            "1 test passed.\n",
            "1 test passed.\n",
            "1 test passed.\n",
            "1 test passed.\n"
          ],
          "name": "stdout"
        }
      ]
    },
    {
      "cell_type": "markdown",
      "metadata": {
        "id": "XRroCDDmiGah",
        "colab_type": "text"
      },
      "source": [
        "#### ** (3b) Extract features **\n",
        "#### We will now parse the raw training data to create an RDD that we can subsequently use to create an OHE dictionary. Note from the `take()` command in Part (3a) that each raw data point is a string containing several fields separated by some delimiter.  For now, we will ignore the first field (which is the 0-1 label), and parse the remaining fields (or raw features).  To do this, complete the implemention of the `parsePoint` function."
      ]
    },
    {
      "cell_type": "code",
      "metadata": {
        "id": "MeRlZZMSiGai",
        "colab_type": "code",
        "outputId": "cf13b419-9282-45e5-e574-863471eba072",
        "colab": {
          "base_uri": "https://localhost:8080/",
          "height": 52
        }
      },
      "source": [
        "# TODO: Replace <FILL IN> with appropriate code\n",
        "def parsePoint(point):\n",
        "    \"\"\"Converts a comma separated string into a list of (featureID, value) tuples.\n",
        "\n",
        "    Note:\n",
        "        featureIDs should start at 0 and increase to the number of features - 1.\n",
        "\n",
        "    Args:\n",
        "        point (str): A comma separated string where the first value is the label and the rest\n",
        "            are features.\n",
        "\n",
        "    Returns:\n",
        "        list: A list of (featureID, value) tuples.\n",
        "    \"\"\"\n",
        "    data = point.split(',')\n",
        "    # return [(index, point.split(',')[1:][index]) for index in range(len(point.split(',')[1:]))]\n",
        "    return map(lambda (i,j):(i,j),enumerate(data[1:]))\n",
        "    \n",
        "parsedTrainFeat = rawTrainData.map(parsePoint)\n",
        "print parsedTrainFeat\n",
        "\n",
        "numCategories = (parsedTrainFeat\n",
        "                 .flatMap(lambda x: x)\n",
        "                 .distinct()\n",
        "                 .map(lambda x: (x[0], 1))\n",
        "                 .reduceByKey(lambda x, y: x + y)\n",
        "                 .sortByKey()\n",
        "                 .collect())\n",
        "\n",
        "print numCategories[2][1]\n"
      ],
      "execution_count": 0,
      "outputs": [
        {
          "output_type": "stream",
          "text": [
            "PythonRDD[33] at RDD at PythonRDD.scala:53\n",
            "855\n"
          ],
          "name": "stdout"
        }
      ]
    },
    {
      "cell_type": "code",
      "metadata": {
        "id": "d106Pop7iGaj",
        "colab_type": "code",
        "outputId": "ca189952-df7f-454d-fca1-6c6750a368f6",
        "colab": {
          "base_uri": "https://localhost:8080/",
          "height": 52
        }
      },
      "source": [
        "# TEST Extract features (3b)\n",
        "Test.assertEquals(numCategories[2][1], 855, 'incorrect implementation of parsePoint')\n",
        "Test.assertEquals(numCategories[32][1], 4, 'incorrect implementation of parsePoint')"
      ],
      "execution_count": 0,
      "outputs": [
        {
          "output_type": "stream",
          "text": [
            "1 test passed.\n",
            "1 test passed.\n"
          ],
          "name": "stdout"
        }
      ]
    },
    {
      "cell_type": "markdown",
      "metadata": {
        "id": "kxpKN7SziGak",
        "colab_type": "text"
      },
      "source": [
        "#### **(3c) Create an OHE dictionary from the dataset **\n",
        "#### Note that parsePoint returns a data point as a list of `(featureID, category)` tuples, which is the same format as the sample dataset studied in Parts 1 and 2 of this lab.  Using this observation, create an OHE dictionary using the function implemented in Part (2c). Note that we will assume for simplicity that all features in our CTR dataset are categorical."
      ]
    },
    {
      "cell_type": "code",
      "metadata": {
        "id": "qOVb9EQFsQdl",
        "colab_type": "code",
        "outputId": "c8e028eb-5f83-4458-f818-db52f60a0f80",
        "colab": {
          "base_uri": "https://localhost:8080/",
          "height": 139
        }
      },
      "source": [
        "!ls -lrt"
      ],
      "execution_count": 0,
      "outputs": [
        {
          "output_type": "stream",
          "text": [
            "total 705028\n",
            "drwxr-xr-x 13 1000 1000      4096 Feb  2 19:47 spark-2.4.5-bin-hadoop2.7\n",
            "-rw-r--r--  1 root root 232530699 Feb  2 20:27 spark-2.4.5-bin-hadoop2.7.tgz.2\n",
            "-rw-r--r--  1 root root 232530699 Feb  2 20:27 spark-2.4.5-bin-hadoop2.7.tgz.1\n",
            "-rw-r--r--  1 root root 232530699 Feb  2 20:27 spark-2.4.5-bin-hadoop2.7.tgz\n",
            "drwxr-xr-x  1 root root      4096 Mar 18 16:23 sample_data\n",
            "-rw-r--r--  1 root root  24328072 Mar 23 15:00 dac_sample.txt\n"
          ],
          "name": "stdout"
        }
      ]
    },
    {
      "cell_type": "code",
      "metadata": {
        "id": "xYFG2i9liGak",
        "colab_type": "code",
        "outputId": "f3b2c6e1-4df1-4564-a5fe-3f7d3688d21c",
        "colab": {
          "base_uri": "https://localhost:8080/",
          "height": 52
        }
      },
      "source": [
        "# TODO: Replace <FILL IN> with appropriate code\n",
        "ctrOHEDict = createOneHotDict(parsedTrainFeat)\n",
        "numCtrOHEFeats = len(ctrOHEDict.keys())\n",
        "print numCtrOHEFeats\n",
        "print ctrOHEDict[(0, '')]"
      ],
      "execution_count": 0,
      "outputs": [
        {
          "output_type": "stream",
          "text": [
            "233286\n",
            "36164\n"
          ],
          "name": "stdout"
        }
      ]
    },
    {
      "cell_type": "code",
      "metadata": {
        "id": "Vx8hdYZHiGam",
        "colab_type": "code",
        "outputId": "f1db34d7-eadb-41de-e376-2840e2d50018",
        "colab": {
          "base_uri": "https://localhost:8080/",
          "height": 52
        }
      },
      "source": [
        "# TEST Create an OHE dictionary from the dataset (3c)\n",
        "Test.assertEquals(numCtrOHEFeats, 233286, 'incorrect number of features in ctrOHEDict')\n",
        "Test.assertTrue((0, '') in ctrOHEDict, 'incorrect features in ctrOHEDict')"
      ],
      "execution_count": 0,
      "outputs": [
        {
          "output_type": "stream",
          "text": [
            "1 test passed.\n",
            "1 test passed.\n"
          ],
          "name": "stdout"
        }
      ]
    },
    {
      "cell_type": "markdown",
      "metadata": {
        "id": "q2COtwsdiGan",
        "colab_type": "text"
      },
      "source": [
        "#### ** (3d) Apply OHE to the dataset **\n",
        "#### Now let's use this OHE dictionary by starting with the raw training data and creating an RDD of [LabeledPoint](http://spark.apache.org/docs/1.3.1/api/python/pyspark.mllib.html#pyspark.mllib.regression.LabeledPoint) objects using OHE features.  To do this, complete the implementation of the `parseOHEPoint` function. Hint: `parseOHEPoint` is an extension of the `parsePoint` function from Part (3b) and it uses the `oneHotEncoding` function from Part (1d)."
      ]
    },
    {
      "cell_type": "code",
      "metadata": {
        "id": "iPTKyrx-iGan",
        "colab_type": "code",
        "colab": {}
      },
      "source": [
        "from pyspark.mllib.regression import LabeledPoint"
      ],
      "execution_count": 0,
      "outputs": []
    },
    {
      "cell_type": "code",
      "metadata": {
        "id": "gx2aJTRtiGao",
        "colab_type": "code",
        "outputId": "a9149699-7f37-4db6-fd5a-5539d7cdd200",
        "colab": {
          "base_uri": "https://localhost:8080/",
          "height": 54
        }
      },
      "source": [
        "# TODO: Replace <FILL IN> with appropriate code\n",
        "def parseOHEPoint(point, OHEDict, numOHEFeats):\n",
        "    \"\"\"Obtain the label and feature vector for this raw observation.\n",
        "\n",
        "    Note:\n",
        "        You must use the function `oneHotEncoding` in this implementation or later portions\n",
        "        of this lab may not function as expected.\n",
        "\n",
        "    Args:\n",
        "        point (str): A comma separated string where the first value is the label and the rest\n",
        "            are features.\n",
        "        OHEDict (dict of (int, str) to int): Mapping of (featureID, value) to unique integer.\n",
        "        numOHEFeats (int): The number of unique features in the training dataset.\n",
        "\n",
        "    Returns:\n",
        "        LabeledPoint: Contains the label for the observation and the one-hot-encoding of the\n",
        "            raw features based on the provided OHE dictionary.\n",
        "    \"\"\"\n",
        "    return LabeledPoint(point.split(',')[0],oneHotEncoding(parsePoint(point),OHEDict, numOHEFeats))\n",
        "\n",
        "OHETrainData = rawTrainData.map(lambda point: parseOHEPoint(point, ctrOHEDict, numCtrOHEFeats))\n",
        "OHETrainData.cache()\n",
        "print OHETrainData.take(1)\n",
        "\n",
        "# Check that oneHotEncoding function was used in parseOHEPoint\n",
        "backupOneHot = oneHotEncoding\n",
        "oneHotEncoding = None\n",
        "withOneHot = False\n",
        "try: parseOHEPoint(rawTrainData.take(1)[0], ctrOHEDict, numCtrOHEFeats)\n",
        "except TypeError: withOneHot = True\n",
        "oneHotEncoding = backupOneHot"
      ],
      "execution_count": 0,
      "outputs": [
        {
          "output_type": "stream",
          "text": [
            "[LabeledPoint(0.0, (233286,[386,3077,6799,8264,8862,11800,12802,16125,17551,18566,29331,33132,39525,55794,61786,81396,82659,93573,96929,100677,109699,110646,112132,120260,128596,132397,132803,140620,160675,185498,190370,191146,195925,202664,204273,206055,222737,225958,229942],[1.0,1.0,1.0,1.0,1.0,1.0,1.0,1.0,1.0,1.0,1.0,1.0,1.0,1.0,1.0,1.0,1.0,1.0,1.0,1.0,1.0,1.0,1.0,1.0,1.0,1.0,1.0,1.0,1.0,1.0,1.0,1.0,1.0,1.0,1.0,1.0,1.0,1.0,1.0]))]\n"
          ],
          "name": "stdout"
        }
      ]
    },
    {
      "cell_type": "code",
      "metadata": {
        "id": "ljxPH2UWiGap",
        "colab_type": "code",
        "outputId": "1f8ccdbe-897b-4d7c-adb8-0f60fc8ded47",
        "colab": {
          "base_uri": "https://localhost:8080/",
          "height": 52
        }
      },
      "source": [
        "# TEST Apply OHE to the dataset (3d)\n",
        "numNZ = sum(parsedTrainFeat.map(lambda x: len(x)).take(5))\n",
        "numNZAlt = sum(OHETrainData.map(lambda lp: len(lp.features.indices)).take(5))\n",
        "Test.assertEquals(numNZ, numNZAlt, 'incorrect implementation of parseOHEPoint')\n",
        "Test.assertTrue(withOneHot, 'oneHotEncoding not present in parseOHEPoint')"
      ],
      "execution_count": 0,
      "outputs": [
        {
          "output_type": "stream",
          "text": [
            "1 test passed.\n",
            "1 test passed.\n"
          ],
          "name": "stdout"
        }
      ]
    },
    {
      "cell_type": "markdown",
      "metadata": {
        "id": "DsuyKMjDiGar",
        "colab_type": "text"
      },
      "source": [
        "#### **Visualization 1: Feature frequency **\n",
        "#### We will now visualize the number of times each of the 233,286 OHE features appears in the training data. We first compute the number of times each feature appears, then bucket the features by these counts.  The buckets are sized by powers of 2, so the first bucket corresponds to features that appear exactly once ( $ \\scriptsize 2^0 $ ), the second to features that appear twice ( $ \\scriptsize 2^1 $ ), the third to features that occur between three and four ( $ \\scriptsize 2^2 $ ) times, the fifth bucket is five to eight ( $ \\scriptsize 2^3 $ ) times and so on. The scatter plot below shows the logarithm of the bucket thresholds versus the logarithm of the number of features that have counts that fall in the buckets."
      ]
    },
    {
      "cell_type": "code",
      "metadata": {
        "id": "NySGKDxgiGar",
        "colab_type": "code",
        "outputId": "f8b9667d-2ded-4903-8cf3-2b62aa7d9ed5",
        "colab": {
          "base_uri": "https://localhost:8080/",
          "height": 54
        }
      },
      "source": [
        "def bucketFeatByCount(featCount):\n",
        "    \"\"\"Bucket the counts by powers of two.\"\"\"\n",
        "    for i in range(11):\n",
        "        size = 2 ** i\n",
        "        if featCount <= size:\n",
        "            return size\n",
        "    return -1\n",
        "\n",
        "featCounts = (OHETrainData\n",
        "              .flatMap(lambda lp: lp.features.indices)\n",
        "              .map(lambda x: (x, 1))\n",
        "              .reduceByKey(lambda x, y: x + y))\n",
        "featCountsBuckets = (featCounts\n",
        "                     .map(lambda x: (bucketFeatByCount(x[1]), 1))\n",
        "                     .filter(lambda (k, v): k != -1)\n",
        "                     .reduceByKey(lambda x, y: x + y)\n",
        "                     .collect())\n",
        "print featCountsBuckets"
      ],
      "execution_count": 0,
      "outputs": [
        {
          "output_type": "stream",
          "text": [
            "[(256, 748), (1024, 255), (2, 24076), (4, 16639), (32, 4755), (8, 11440), (64, 2627), (128, 1476), (16, 7752), (512, 414), (1, 162813)]\n"
          ],
          "name": "stdout"
        }
      ]
    },
    {
      "cell_type": "code",
      "metadata": {
        "id": "MLU_WCYhiGas",
        "colab_type": "code",
        "outputId": "aa127afc-8d20-4f14-c540-0a41f988a65e",
        "colab": {
          "base_uri": "https://localhost:8080/",
          "height": 396
        }
      },
      "source": [
        "import matplotlib.pyplot as plt\n",
        "\n",
        "x, y = zip(*featCountsBuckets)\n",
        "x, y = np.log(x), np.log(y)\n",
        "\n",
        "def preparePlot(xticks, yticks, figsize=(10.5, 6), hideLabels=False, gridColor='#999999',\n",
        "                gridWidth=1.0):\n",
        "    \"\"\"Template for generating the plot layout.\"\"\"\n",
        "    plt.close()\n",
        "    fig, ax = plt.subplots(figsize=figsize, facecolor='white', edgecolor='white')\n",
        "    ax.axes.tick_params(labelcolor='#999999', labelsize='10')\n",
        "    for axis, ticks in [(ax.get_xaxis(), xticks), (ax.get_yaxis(), yticks)]:\n",
        "        axis.set_ticks_position('none')\n",
        "        axis.set_ticks(ticks)\n",
        "        axis.label.set_color('#999999')\n",
        "        if hideLabels: axis.set_ticklabels([])\n",
        "    plt.grid(color=gridColor, linewidth=gridWidth, linestyle='-')\n",
        "    map(lambda position: ax.spines[position].set_visible(False), ['bottom', 'top', 'left', 'right'])\n",
        "    return fig, ax\n",
        "\n",
        "# generate layout and plot data\n",
        "fig, ax = preparePlot(np.arange(0, 10, 1), np.arange(4, 14, 2))\n",
        "ax.set_xlabel(r'$\\log_e(bucketSize)$'), ax.set_ylabel(r'$\\log_e(countInBucket)$')\n",
        "plt.scatter(x, y, s=14**2, c='#d6ebf2', edgecolors='#8cbfd0', alpha=0.75)\n",
        "pass"
      ],
      "execution_count": 0,
      "outputs": [
        {
          "output_type": "display_data",
          "data": {
            "image/png": "[encoded data removed]",
            "text/plain": [
              "<Figure size 756x432 with 1 Axes>"
            ]
          },
          "metadata": {
            "tags": []
          }
        }
      ]
    },
    {
      "cell_type": "markdown",
      "metadata": {
        "id": "crgc1N0GiGat",
        "colab_type": "text"
      },
      "source": [
        "#### **(3e) Handling unseen features **\n",
        "#### We naturally would like to repeat the process from Part (3d), e.g., to compute OHE features for the validation and test datasets.  However, we must be careful, as some categorical values will likely appear in new data that did not exist in the training data. To deal with this situation, update the `oneHotEncoding()` function from Part (1d) to ignore previously unseen categories, and then compute OHE features for the validation data."
      ]
    },
    {
      "cell_type": "code",
      "metadata": {
        "id": "KMfGehzhiGau",
        "colab_type": "code",
        "outputId": "a9cade17-464e-4992-a30f-4414d0df3ab4",
        "colab": {
          "base_uri": "https://localhost:8080/",
          "height": 54
        }
      },
      "source": [
        "# TODO: Replace <FILL IN> with appropriate code\n",
        "def oneHotEncoding(rawFeats, OHEDict, numOHEFeats):\n",
        "    \"\"\"Produce a one-hot-encoding from a list of features and an OHE dictionary.\n",
        "\n",
        "    Note:\n",
        "        If a (featureID, value) tuple doesn't have a corresponding key in OHEDict it should be\n",
        "        ignored.\n",
        "\n",
        "    Args:\n",
        "        rawFeats (list of (int, str)): The features corresponding to a single observation.  Each\n",
        "            feature consists of a tuple of featureID and the feature's value. (e.g. sampleOne)\n",
        "        OHEDict (dict): A mapping of (featureID, value) to unique integer.\n",
        "        numOHEFeats (int): The total number of unique OHE features (combinations of featureID and\n",
        "            value).\n",
        "\n",
        "    Returns:\n",
        "        SparseVector: A SparseVector of length numOHEFeats with indicies equal to the unique\n",
        "            identifiers for the (featureID, value) combinations that occur in the observation and\n",
        "            with values equal to 1.0.\n",
        "    \"\"\"\n",
        "    OHEkey = set(OHEDict.keys())\n",
        "    actualRawFeats = [item for item in rawFeats if item in OHEkey]\n",
        "    return SparseVector(numOHEFeats,sorted([OHEDict[item] for item in actualRawFeats]),[1.0 for item in actualRawFeats])\n",
        "\n",
        "OHEValidationData = rawValidationData.map(lambda point: parseOHEPoint(point, ctrOHEDict, numCtrOHEFeats))\n",
        "OHEValidationData.cache()\n",
        "print OHEValidationData.take(1)"
      ],
      "execution_count": 0,
      "outputs": [
        {
          "output_type": "stream",
          "text": [
            "[LabeledPoint(0.0, (233286,[7576,9187,15510,21585,31213,36164,39525,49198,61786,66603,67218,68211,68311,73035,76672,81329,81396,91981,96929,98450,109699,110946,117015,121552,141711,146496,147649,171128,184132,184687,185498,194763,198537,201039,210717,213588,222162,222626,227709],[1.0,1.0,1.0,1.0,1.0,1.0,1.0,1.0,1.0,1.0,1.0,1.0,1.0,1.0,1.0,1.0,1.0,1.0,1.0,1.0,1.0,1.0,1.0,1.0,1.0,1.0,1.0,1.0,1.0,1.0,1.0,1.0,1.0,1.0,1.0,1.0,1.0,1.0,1.0]))]\n"
          ],
          "name": "stdout"
        }
      ]
    },
    {
      "cell_type": "code",
      "metadata": {
        "id": "0RFxPMnliGav",
        "colab_type": "code",
        "outputId": "67de1b84-2597-4ffe-ec8a-78f180ec2b60",
        "colab": {
          "base_uri": "https://localhost:8080/",
          "height": 34
        }
      },
      "source": [
        "# TEST Handling unseen features (3e)\n",
        "numNZVal = (OHEValidationData\n",
        "            .map(lambda lp: len(lp.features.indices))\n",
        "            .sum())\n",
        "Test.assertEquals(numNZVal, 372080, 'incorrect number of features')"
      ],
      "execution_count": 0,
      "outputs": [
        {
          "output_type": "stream",
          "text": [
            "1 test passed.\n"
          ],
          "name": "stdout"
        }
      ]
    },
    {
      "cell_type": "markdown",
      "metadata": {
        "id": "iusI5KbKiGaw",
        "colab_type": "text"
      },
      "source": [
        "### ** Part 4: CTR prediction and logloss evaluation **"
      ]
    },
    {
      "cell_type": "markdown",
      "metadata": {
        "id": "lCmlmtSjiGaw",
        "colab_type": "text"
      },
      "source": [
        "#### ** (4a) Logistic regression **\n",
        "#### We are now ready to train our first CTR classifier.  A natural classifier to use in this setting is logistic regression, since it models the probability of a click-through event rather than returning a binary response, and when working with rare events, probabilistic predictions are useful.  First use [LogisticRegressionWithSGD](https://spark.apache.org/docs/latest/api/python/pyspark.mllib.html#pyspark.mllib.classification.LogisticRegressionWithSGD) to train a model using `OHETrainData` with the given hyperparameter configuration.  `LogisticRegressionWithSGD` returns a [LogisticRegressionModel](https://spark.apache.org/docs/latest/api/python/pyspark.mllib.html#pyspark.mllib.regression.LogisticRegressionModel).  Next, use the `LogisticRegressionModel.weights` and `LogisticRegressionModel.intercept` attributes to print out the model's parameters.  Note that these are the names of the object's attributes and should be called using a syntax like `model.weights` for a given `model`."
      ]
    },
    {
      "cell_type": "code",
      "metadata": {
        "id": "6sY8vYwqiGax",
        "colab_type": "code",
        "colab": {}
      },
      "source": [
        "from pyspark.mllib.classification import LogisticRegressionWithSGD\n",
        "\n",
        "# fixed hyperparameters\n",
        "numIters = 50\n",
        "stepSize = 10.\n",
        "regParam = 1e-6\n",
        "regType = 'l2'\n",
        "includeIntercept = True"
      ],
      "execution_count": 0,
      "outputs": []
    },
    {
      "cell_type": "code",
      "metadata": {
        "id": "3MNaU0bWiGay",
        "colab_type": "code",
        "outputId": "b4788125-423c-4ed2-8f25-d5e329521b6c",
        "colab": {
          "base_uri": "https://localhost:8080/",
          "height": 54
        }
      },
      "source": [
        "# TODO: Replace <FILL IN> with appropriate code\n",
        "model0 = LogisticRegressionWithSGD.train(OHETrainData,iterations=numIters, step=stepSize, regParam=regParam, regType=regType, intercept=includeIntercept)\n",
        "sortedWeights = sorted(model0.weights)\n",
        "print sortedWeights[:5], model0.intercept"
      ],
      "execution_count": 0,
      "outputs": [
        {
          "output_type": "stream",
          "text": [
            "[-0.4589923685357561, -0.37973707648623956, -0.36996558266753304, -0.3693496287992826, -0.3269794541501064] 0.56455084025\n"
          ],
          "name": "stdout"
        }
      ]
    },
    {
      "cell_type": "code",
      "metadata": {
        "id": "eloA9JI-iGaz",
        "colab_type": "code",
        "outputId": "1abcf2e3-02f6-4195-8191-f060593b227b",
        "colab": {
          "base_uri": "https://localhost:8080/",
          "height": 52
        }
      },
      "source": [
        "# TEST Logistic regression (4a)\n",
        "Test.assertTrue(np.allclose(model0.intercept,  0.56455084025), 'incorrect value for model0.intercept')\n",
        "Test.assertTrue(np.allclose(sortedWeights[0:5],\n",
        "                [-0.45899236853575609, -0.37973707648623956, -0.36996558266753304,\n",
        "                 -0.36934962879928263, -0.32697945415010637]), 'incorrect value for model0.weights')"
      ],
      "execution_count": 0,
      "outputs": [
        {
          "output_type": "stream",
          "text": [
            "1 test passed.\n",
            "1 test passed.\n"
          ],
          "name": "stdout"
        }
      ]
    },
    {
      "cell_type": "markdown",
      "metadata": {
        "id": "Z6yz7I6hiGa0",
        "colab_type": "text"
      },
      "source": [
        "#### ** (4b) Log loss **\n",
        "#### Throughout this lab, we will use log loss to evaluate the quality of models.  Log loss is defined as: $$  \\begin{align} \\scriptsize \\ell_{log}(p, y) = \\begin{cases} -\\log (p) & \\text{if } y = 1 \\\\\\ -\\log(1-p) & \\text{if } y = 0 \\end{cases} \\end{align} $$ where $ \\scriptsize p$ is a probability between 0 and 1 and $ \\scriptsize y$ is a label of either 0 or 1. Log loss is a standard evaluation criterion when predicting rare-events such as click-through rate prediction (it is also the criterion used in the [Criteo Kaggle competition](https://www.kaggle.com/c/criteo-display-ad-challenge)).  Write a function to compute log loss, and evaluate it on some sample inputs."
      ]
    },
    {
      "cell_type": "code",
      "metadata": {
        "id": "UfuRI5SLiGa0",
        "colab_type": "code",
        "outputId": "c85c9712-ab00-4c1f-a08b-e08bf37849a9",
        "colab": {
          "base_uri": "https://localhost:8080/",
          "height": 173
        }
      },
      "source": [
        "# TODO: Replace <FILL IN> with appropriate code\n",
        "from math import log\n",
        "\n",
        "def computeLogLoss(p, y):\n",
        "    \"\"\"Calculates the value of log loss for a given probabilty and label.\n",
        "\n",
        "    Note:\n",
        "        log(0) is undefined, so when p is 0 we need to add a small value (epsilon) to it\n",
        "        and when p is 1 we need to subtract a small value (epsilon) from it.\n",
        "\n",
        "    Args:\n",
        "        p (float): A probabilty between 0 and 1.\n",
        "        y (int): A label.  Takes on the values 0 and 1.\n",
        "\n",
        "    Returns:\n",
        "        float: The log loss value.\n",
        "    \"\"\"\n",
        "    epsilon = 10e-12\n",
        "    if p == 1:\n",
        "        p -= epsilon\n",
        "    elif p == 0:\n",
        "        p += epsilon\n",
        "    else:\n",
        "        p = p\n",
        "\n",
        "    if y == 1:\n",
        "        return -log(p)\n",
        "    else:\n",
        "        return -log(1-p)\n",
        "\n",
        "print computeLogLoss(.5, 1)\n",
        "print computeLogLoss(.5, 0)\n",
        "print computeLogLoss(.99, 1)\n",
        "print computeLogLoss(.99, 0)\n",
        "print computeLogLoss(.01, 1)\n",
        "print computeLogLoss(.01, 0)\n",
        "print computeLogLoss(0, 1)\n",
        "print computeLogLoss(1, 1)\n",
        "print computeLogLoss(1, 0)"
      ],
      "execution_count": 0,
      "outputs": [
        {
          "output_type": "stream",
          "text": [
            "0.69314718056\n",
            "0.69314718056\n",
            "0.0100503358535\n",
            "4.60517018599\n",
            "4.60517018599\n",
            "0.0100503358535\n",
            "25.3284360229\n",
            "1.00000008275e-11\n",
            "25.3284359402\n"
          ],
          "name": "stdout"
        }
      ]
    },
    {
      "cell_type": "code",
      "metadata": {
        "id": "9HqfmLasiGa1",
        "colab_type": "code",
        "outputId": "de6d13fd-9302-48bc-fd94-0a114aa3eaee",
        "colab": {
          "base_uri": "https://localhost:8080/",
          "height": 52
        }
      },
      "source": [
        "# TEST Log loss (4b)\n",
        "Test.assertTrue(np.allclose([computeLogLoss(.5, 1), computeLogLoss(.01, 0), computeLogLoss(.01, 1)],\n",
        "                            [0.69314718056, 0.0100503358535, 4.60517018599]),\n",
        "                'computeLogLoss is not correct')\n",
        "Test.assertTrue(np.allclose([computeLogLoss(0, 1), computeLogLoss(1, 1), computeLogLoss(1, 0)],\n",
        "                            [25.3284360229, 1.00000008275e-11, 25.3284360229]),\n",
        "                'computeLogLoss needs to bound p away from 0 and 1 by epsilon')"
      ],
      "execution_count": 0,
      "outputs": [
        {
          "output_type": "stream",
          "text": [
            "1 test passed.\n",
            "1 test passed.\n"
          ],
          "name": "stdout"
        }
      ]
    },
    {
      "cell_type": "markdown",
      "metadata": {
        "id": "u_STvlMuiGa3",
        "colab_type": "text"
      },
      "source": [
        "#### ** (4c)  Baseline log loss **\n",
        "#### Next we will use the function we wrote in Part (4b) to compute the baseline log loss on the training data. A very simple yet natural baseline model is one where we always make the same prediction independent of the given datapoint, setting the predicted value equal to the fraction of training points that correspond to click-through events (i.e., where the label is one). Compute this value (which is simply the mean of the training labels), and then use it to compute the training log loss for the baseline model.  The log loss for multiple observations is the mean of the individual log loss values."
      ]
    },
    {
      "cell_type": "code",
      "metadata": {
        "id": "MM3iRziriGa3",
        "colab_type": "code",
        "outputId": "58830727-2683-42a4-b00d-118c93188bfb",
        "colab": {
          "base_uri": "https://localhost:8080/",
          "height": 69
        }
      },
      "source": [
        "# TODO: Replace <FILL IN> with appropriate code\n",
        "# Note that our dataset has a very high click-through rate by design\n",
        "# In practice click-through rate can be one to two orders of magnitude lower\n",
        "classOneFracTrain = OHETrainData.map(lambda point: point.label).mean()\n",
        "print classOneFracTrain\n",
        "\n",
        "logLossTrBase = OHETrainData.map(lambda point: computeLogLoss(classOneFracTrain,point.label)).mean()\n",
        "print 'Baseline Train Logloss = {0:.3f}\\n'.format(logLossTrBase)"
      ],
      "execution_count": 0,
      "outputs": [
        {
          "output_type": "stream",
          "text": [
            "0.22717773523\n",
            "Baseline Train Logloss = 0.536\n",
            "\n"
          ],
          "name": "stdout"
        }
      ]
    },
    {
      "cell_type": "code",
      "metadata": {
        "id": "FMmxNAXXiGa4",
        "colab_type": "code",
        "outputId": "af11d4af-7865-45c4-c5d3-151eb1b89523",
        "colab": {
          "base_uri": "https://localhost:8080/",
          "height": 52
        }
      },
      "source": [
        "# TEST Baseline log loss (4c)\n",
        "Test.assertTrue(np.allclose(classOneFracTrain, 0.22717773523), 'incorrect value for classOneFracTrain')\n",
        "Test.assertTrue(np.allclose(logLossTrBase, 0.535844), 'incorrect value for logLossTrBase')"
      ],
      "execution_count": 0,
      "outputs": [
        {
          "output_type": "stream",
          "text": [
            "1 test passed.\n",
            "1 test passed.\n"
          ],
          "name": "stdout"
        }
      ]
    },
    {
      "cell_type": "markdown",
      "metadata": {
        "id": "XVe5YQOOiGa5",
        "colab_type": "text"
      },
      "source": [
        "#### ** (4d) Predicted probability **\n",
        "#### In order to compute the log loss for the model we trained in Part (4a), we need to write code to generate predictions from this model. Write a function that computes the raw linear prediction from this logistic regression model and then passes it through a [sigmoid function](http://en.wikipedia.org/wiki/Sigmoid_function) $ \\scriptsize \\sigma(t) = (1+ e^{-t})^{-1} $ to return the model's probabilistic prediction. Then compute probabilistic predictions on the training data.\n",
        "#### Note that when incorporating an intercept into our predictions, we simply add the intercept to the value of the prediction obtained from the weights and features.  Alternatively, if the intercept was included as the first weight, we would need to add a corresponding feature to our data where the feature has the value one.  This is not the case here."
      ]
    },
    {
      "cell_type": "code",
      "metadata": {
        "id": "JZ5fouMeiGa6",
        "colab_type": "code",
        "outputId": "e2d5e44c-493d-4f2a-aa96-5c9af8ed0b49",
        "colab": {
          "base_uri": "https://localhost:8080/",
          "height": 72
        }
      },
      "source": [
        "# TODO: Replace <FILL IN> with appropriate code\n",
        "from math import exp #  exp(-t) = e^-t\n",
        "\n",
        "def getP(x, w, intercept):\n",
        "    \"\"\"Calculate the probability for an observation given a set of weights and intercept.\n",
        "\n",
        "    Note:\n",
        "        We'll bound our raw prediction between 20 and -20 for numerical purposes.\n",
        "\n",
        "    Args:\n",
        "        x (SparseVector): A vector with values of 1.0 for features that exist in this\n",
        "            observation and 0.0 otherwise.\n",
        "        w (DenseVector): A vector of weights (betas) for the model.\n",
        "        intercept (float): The model's intercept.\n",
        "\n",
        "    Returns:\n",
        "        float: A probability between 0 and 1.\n",
        "    \"\"\"\n",
        "    rawPrediction = intercept + w.dot(x)\n",
        "\n",
        "    # Bound the raw prediction value\n",
        "    rawPrediction = min(rawPrediction, 20)\n",
        "    rawPrediction = max(rawPrediction, -20)\n",
        "    return 1/(1+exp(-rawPrediction))\n",
        "\n",
        "trainingPredictions = OHETrainData.map(lambda point: getP(point.features,model0.weights,model0.intercept))\n",
        "\n",
        "print trainingPredictions.take(5)\n",
        "print trainingPredictions.sum()"
      ],
      "execution_count": 0,
      "outputs": [
        {
          "output_type": "stream",
          "text": [
            "[0.3026288202391113, 0.10362661997434078, 0.2836342478387561, 0.17846102057880123, 0.5389775379218853]\n",
            "18135.4834348\n"
          ],
          "name": "stdout"
        }
      ]
    },
    {
      "cell_type": "code",
      "metadata": {
        "id": "t1y76cnOiGa7",
        "colab_type": "code",
        "outputId": "33615829-ea4e-4885-e8d2-89ac0d72bd00",
        "colab": {
          "base_uri": "https://localhost:8080/",
          "height": 34
        }
      },
      "source": [
        "# TEST Predicted probability (4d)\n",
        "Test.assertTrue(np.allclose(trainingPredictions.sum(), 18135.4834348),\n",
        "                'incorrect value for trainingPredictions')"
      ],
      "execution_count": 0,
      "outputs": [
        {
          "output_type": "stream",
          "text": [
            "1 test passed.\n"
          ],
          "name": "stdout"
        }
      ]
    },
    {
      "cell_type": "markdown",
      "metadata": {
        "id": "9d6POiYAiGa8",
        "colab_type": "text"
      },
      "source": [
        "#### ** (4e) Evaluate the model **\n",
        "#### We are now ready to evaluate the quality of the model we trained in Part (4a). To do this, first write a general function that takes as input a model and data, and outputs the log loss.  Then run this function on the OHE training data, and compare the result with the baseline log loss."
      ]
    },
    {
      "cell_type": "code",
      "metadata": {
        "id": "yfFtca0_iGa8",
        "colab_type": "code",
        "outputId": "2ab337b2-699f-4bf6-9989-c28c63cb53e1",
        "colab": {
          "base_uri": "https://localhost:8080/",
          "height": 69
        }
      },
      "source": [
        "# TODO: Replace <FILL IN> with appropriate code\n",
        "def evaluateResults(model, data):\n",
        "    \"\"\"Calculates the log loss for the data given the model.\n",
        "\n",
        "    Args:\n",
        "        model (LogisticRegressionModel): A trained logistic regression model.\n",
        "        data (RDD of LabeledPoint): Labels and features for each observation.\n",
        "\n",
        "    Returns:\n",
        "        float: Log loss for the data.\n",
        "    \"\"\"\n",
        "    final_data = data.map(lambda point: (getP(point.features,model.weights,model.intercept),point.label))\n",
        "    return final_data.map(lambda item: computeLogLoss(item[0],item[-1])).mean()\n",
        "    \n",
        "logLossTrLR0 = evaluateResults(model0, OHETrainData)\n",
        "print ('OHE Features Train Logloss:\\n\\tBaseline = {0:.3f}\\n\\tLogReg = {1:.3f}'\n",
        "       .format(logLossTrBase, logLossTrLR0))"
      ],
      "execution_count": 0,
      "outputs": [
        {
          "output_type": "stream",
          "text": [
            "OHE Features Train Logloss:\n",
            "\tBaseline = 0.536\n",
            "\tLogReg = 0.457\n"
          ],
          "name": "stdout"
        }
      ]
    },
    {
      "cell_type": "code",
      "metadata": {
        "id": "a_GCx1BNiGa9",
        "colab_type": "code",
        "outputId": "6aa393c5-77e6-4e5d-b60f-4499e666b83b",
        "colab": {
          "base_uri": "https://localhost:8080/",
          "height": 34
        }
      },
      "source": [
        "# TEST Evaluate the model (4e)\n",
        "Test.assertTrue(np.allclose(logLossTrLR0, 0.456903), 'incorrect value for logLossTrLR0')"
      ],
      "execution_count": 0,
      "outputs": [
        {
          "output_type": "stream",
          "text": [
            "1 test passed.\n"
          ],
          "name": "stdout"
        }
      ]
    },
    {
      "cell_type": "markdown",
      "metadata": {
        "id": "jUeTbB1xiGa-",
        "colab_type": "text"
      },
      "source": [
        "#### ** (4f) Validation log loss **\n",
        "#### Next, following the same logic as in Parts (4c) and 4(e), compute the validation log loss for both the baseline and logistic regression models. Notably, the baseline model for the validation data should still be based on the label fraction from the training dataset."
      ]
    },
    {
      "cell_type": "code",
      "metadata": {
        "id": "9Uvkra79iGa_",
        "colab_type": "code",
        "outputId": "a8815ad8-8b3c-4c90-9a5c-073948852cbe",
        "colab": {
          "base_uri": "https://localhost:8080/",
          "height": 69
        }
      },
      "source": [
        "# TODO: Replace <FILL IN> with appropriate code\n",
        "logLossValBase = OHEValidationData.map(lambda point: computeLogLoss(classOneFracTrain,point.label)).mean()\n",
        "\n",
        "logLossValLR0 = evaluateResults(model0, OHEValidationData)\n",
        "print ('OHE Features Validation Logloss:\\n\\tBaseline = {0:.3f}\\n\\tLogReg = {1:.3f}'\n",
        "       .format(logLossValBase, logLossValLR0))"
      ],
      "execution_count": 0,
      "outputs": [
        {
          "output_type": "stream",
          "text": [
            "OHE Features Validation Logloss:\n",
            "\tBaseline = 0.528\n",
            "\tLogReg = 0.457\n"
          ],
          "name": "stdout"
        }
      ]
    },
    {
      "cell_type": "code",
      "metadata": {
        "id": "0w_exN8wiGbA",
        "colab_type": "code",
        "outputId": "5f211e01-5db7-49fb-d22c-fa3eaea95517",
        "colab": {
          "base_uri": "https://localhost:8080/",
          "height": 52
        }
      },
      "source": [
        "# TEST Validation log loss (4f)\n",
        "Test.assertTrue(np.allclose(logLossValBase, 0.527603), 'incorrect value for logLossValBase')\n",
        "Test.assertTrue(np.allclose(logLossValLR0, 0.456957), 'incorrect value for logLossValLR0')"
      ],
      "execution_count": 0,
      "outputs": [
        {
          "output_type": "stream",
          "text": [
            "1 test passed.\n",
            "1 test passed.\n"
          ],
          "name": "stdout"
        }
      ]
    },
    {
      "cell_type": "markdown",
      "metadata": {
        "id": "M4EvPq5giGbB",
        "colab_type": "text"
      },
      "source": [
        "#### **Visualization 2: ROC curve **\n",
        "#### We will now visualize how well the model predicts our target.  To do this we generate a plot of the ROC curve.  The ROC curve shows us the trade-off between the false positive rate and true positive rate, as we liberalize the threshold required to predict a positive outcome.  A random model is represented by the dashed line."
      ]
    },
    {
      "cell_type": "code",
      "metadata": {
        "id": "24dQ0xieiGbB",
        "colab_type": "code",
        "outputId": "c8e92b43-bc5f-4c5e-9e1b-158277c1f8bb",
        "colab": {
          "base_uri": "https://localhost:8080/",
          "height": 392
        }
      },
      "source": [
        "labelsAndScores = OHEValidationData.map(lambda lp:\n",
        "                                            (lp.label, getP(lp.features, model0.weights, model0.intercept)))\n",
        "labelsAndWeights = labelsAndScores.collect()\n",
        "labelsAndWeights.sort(key=lambda (k, v): v, reverse=True)\n",
        "labelsByWeight = np.array([k for (k, v) in labelsAndWeights])\n",
        "\n",
        "length = labelsByWeight.size\n",
        "truePositives = labelsByWeight.cumsum()\n",
        "numPositive = truePositives[-1]\n",
        "falsePositives = np.arange(1.0, length + 1, 1.) - truePositives\n",
        "\n",
        "truePositiveRate = truePositives / numPositive\n",
        "falsePositiveRate = falsePositives / (length - numPositive)\n",
        "\n",
        "# Generate layout and plot data\n",
        "fig, ax = preparePlot(np.arange(0., 1.1, 0.1), np.arange(0., 1.1, 0.1))\n",
        "ax.set_xlim(-.05, 1.05), ax.set_ylim(-.05, 1.05)\n",
        "ax.set_ylabel('True Positive Rate (Sensitivity)')\n",
        "ax.set_xlabel('False Positive Rate (1 - Specificity)')\n",
        "plt.plot(falsePositiveRate, truePositiveRate, color='#8cbfd0', linestyle='-', linewidth=3.)\n",
        "plt.plot((0., 1.), (0., 1.), linestyle='--', color='#d6ebf2', linewidth=2.)  # Baseline model\n",
        "pass"
      ],
      "execution_count": 0,
      "outputs": [
        {
          "output_type": "display_data",
          "data": {
            "image/png": "[encoded data removed]",
            "text/plain": [
              "<Figure size 756x432 with 1 Axes>"
            ]
          },
          "metadata": {
            "tags": []
          }
        }
      ]
    },
    {
      "cell_type": "markdown",
      "metadata": {
        "id": "lb0WHp_jiGbE",
        "colab_type": "text"
      },
      "source": [
        "### **Part 5: Reduce feature dimension via feature hashing**"
      ]
    },
    {
      "cell_type": "markdown",
      "metadata": {
        "id": "qEcG17eiiGbE",
        "colab_type": "text"
      },
      "source": [
        "#### ** (5a) Hash function **\n",
        "#### As we just saw, using a one-hot-encoding featurization can yield a model with good statistical accuracy.  However, the number of distinct categories across all features is quite large -- recall that we observed 233K categories in the training data in Part (3c).  Moreover, the full Kaggle training dataset includes more than 33M distinct categories, and the Kaggle dataset itself is just a small subset of Criteo's labeled data.  Hence, featurizing via a one-hot-encoding representation would lead to a very large feature vector. To reduce the dimensionality of the feature space, we will use feature hashing.\n",
        "####Below is the hash function that we will use for this part of the lab.  We will first use this hash function with the three sample data points from Part (1a) to gain some intuition.  Specifically, run code to hash the three sample points using two different values for `numBuckets` and observe the resulting hashed feature dictionaries."
      ]
    },
    {
      "cell_type": "code",
      "metadata": {
        "id": "Y3aCZtpCiGbF",
        "colab_type": "code",
        "colab": {}
      },
      "source": [
        "from collections import defaultdict\n",
        "import hashlib\n",
        "\n",
        "def hashFunction(numBuckets, rawFeats, printMapping=False):\n",
        "    \"\"\"Calculate a feature dictionary for an observation's features based on hashing.\n",
        "\n",
        "    Note:\n",
        "        Use printMapping=True for debug purposes and to better understand how the hashing works.\n",
        "\n",
        "    Args:\n",
        "        numBuckets (int): Number of buckets to use as features.\n",
        "        rawFeats (list of (int, str)): A list of features for an observation.  Represented as\n",
        "            (featureID, value) tuples.\n",
        "        printMapping (bool, optional): If true, the mappings of featureString to index will be\n",
        "            printed.\n",
        "\n",
        "    Returns:\n",
        "        dict of int to float:  The keys will be integers which represent the buckets that the\n",
        "            features have been hashed to.  The value for a given key will contain the count of the\n",
        "            (featureID, value) tuples that have hashed to that key.\n",
        "    \"\"\"\n",
        "    mapping = {}\n",
        "    for ind, category in rawFeats:\n",
        "        featureString = category + str(ind)\n",
        "        mapping[featureString] = int(int(hashlib.md5(featureString).hexdigest(), 16) % numBuckets)\n",
        "    if(printMapping): print mapping\n",
        "    sparseFeatures = defaultdict(float)\n",
        "    for bucket in mapping.values():\n",
        "        sparseFeatures[bucket] += 1.0\n",
        "    return dict(sparseFeatures)\n",
        "\n",
        "# Reminder of the sample values:\n",
        "# sampleOne = [(0, 'mouse'), (1, 'black')]\n",
        "# sampleTwo = [(0, 'cat'), (1, 'tabby'), (2, 'mouse')]\n",
        "# sampleThree =  [(0, 'bear'), (1, 'black'), (2, 'salmon')]"
      ],
      "execution_count": 0,
      "outputs": []
    },
    {
      "cell_type": "code",
      "metadata": {
        "id": "pnbfGK33iGbG",
        "colab_type": "code",
        "outputId": "4d7471b4-1fb1-47da-d499-249ddc61a0af",
        "colab": {
          "base_uri": "https://localhost:8080/",
          "height": 191
        }
      },
      "source": [
        "# TODO: Replace <FILL IN> with appropriate code\n",
        "# Use four buckets\n",
        "sampOneFourBuckets = hashFunction(4, sampleOne, True)\n",
        "sampTwoFourBuckets = hashFunction(4, sampleTwo, True)\n",
        "sampThreeFourBuckets = hashFunction(4, sampleThree, True)\n",
        "\n",
        "# Use one hundred buckets\n",
        "sampOneHundredBuckets = hashFunction(100, sampleOne, True)\n",
        "sampTwoHundredBuckets = hashFunction(100, sampleTwo, True)\n",
        "sampThreeHundredBuckets = hashFunction(100, sampleThree, True)\n",
        "\n",
        "print '\\t\\t 4 Buckets \\t\\t\\t 100 Buckets'\n",
        "print 'SampleOne:\\t {0}\\t\\t {1}'.format(sampOneFourBuckets, sampOneHundredBuckets)\n",
        "print 'SampleTwo:\\t {0}\\t\\t {1}'.format(sampTwoFourBuckets, sampTwoHundredBuckets)\n",
        "print 'SampleThree:\\t {0}\\t {1}'.format(sampThreeFourBuckets, sampThreeHundredBuckets)"
      ],
      "execution_count": 0,
      "outputs": [
        {
          "output_type": "stream",
          "text": [
            "{'black1': 2, 'mouse0': 3}\n",
            "{'cat0': 0, 'tabby1': 0, 'mouse2': 2}\n",
            "{'bear0': 0, 'black1': 2, 'salmon2': 1}\n",
            "{'black1': 14, 'mouse0': 31}\n",
            "{'cat0': 40, 'tabby1': 16, 'mouse2': 62}\n",
            "{'bear0': 72, 'black1': 14, 'salmon2': 5}\n",
            "\t\t 4 Buckets \t\t\t 100 Buckets\n",
            "SampleOne:\t {2: 1.0, 3: 1.0}\t\t {14: 1.0, 31: 1.0}\n",
            "SampleTwo:\t {0: 2.0, 2: 1.0}\t\t {40: 1.0, 16: 1.0, 62: 1.0}\n",
            "SampleThree:\t {0: 1.0, 1: 1.0, 2: 1.0}\t {72: 1.0, 5: 1.0, 14: 1.0}\n"
          ],
          "name": "stdout"
        }
      ]
    },
    {
      "cell_type": "code",
      "metadata": {
        "id": "Q2mFuo8yiGbH",
        "colab_type": "code",
        "outputId": "d72d601c-e43a-4ab8-fa1f-736a3e0ac7f5",
        "colab": {
          "base_uri": "https://localhost:8080/",
          "height": 52
        }
      },
      "source": [
        "# TEST Hash function (5a)\n",
        "Test.assertEquals(sampOneFourBuckets, {2: 1.0, 3: 1.0}, 'incorrect value for sampOneFourBuckets')\n",
        "Test.assertEquals(sampThreeHundredBuckets, {72: 1.0, 5: 1.0, 14: 1.0},\n",
        "                  'incorrect value for sampThreeHundredBuckets')"
      ],
      "execution_count": 0,
      "outputs": [
        {
          "output_type": "stream",
          "text": [
            "1 test passed.\n",
            "1 test passed.\n"
          ],
          "name": "stdout"
        }
      ]
    },
    {
      "cell_type": "markdown",
      "metadata": {
        "id": "cVVCLWwdiGbI",
        "colab_type": "text"
      },
      "source": [
        "#### ** (5b) Creating hashed features **\n",
        "#### Next we will use this hash function to create hashed features for our CTR datasets. First write a function that uses the hash function from Part (5a) with numBuckets = $ \\scriptsize 2^{15} \\approx 33K $ to create a `LabeledPoint` with hashed features stored as a `SparseVector`.  Then use this function to create new training, validation and test datasets with hashed features. Hint: `parsedHashPoint` is similar to `parseOHEPoint` from Part (3d)."
      ]
    },
    {
      "cell_type": "code",
      "metadata": {
        "id": "fuf6vfUeiGbI",
        "colab_type": "code",
        "outputId": "e66b4d12-cbff-49c7-d287-d83af8f179ca",
        "colab": {
          "base_uri": "https://localhost:8080/",
          "height": 54
        }
      },
      "source": [
        "# TODO: Replace <FILL IN> with appropriate code\n",
        "def parseHashPoint(point, numBuckets):\n",
        "    \"\"\"Create a LabeledPoint for this observation using hashing.\n",
        "\n",
        "    Args:\n",
        "        point (str): A comma separated string where the first value is the label and the rest are\n",
        "            features.\n",
        "        numBuckets: The number of buckets to hash to.\n",
        "\n",
        "    Returns:\n",
        "        LabeledPoint: A LabeledPoint with a label (0.0 or 1.0) and a SparseVector of hashed\n",
        "            features.\n",
        "    \"\"\"\n",
        "    return LabeledPoint(point.split(',')[0],SparseVector(numBuckets,hashFunction(numBuckets,parsePoint(point))))\n",
        "\n",
        "numBucketsCTR = 2 ** 15\n",
        "hashTrainData = rawTrainData.map(lambda point: parseHashPoint(point,numBucketsCTR))\n",
        "hashTrainData.cache()\n",
        "hashValidationData = rawValidationData.map(lambda point: parseHashPoint(point,numBucketsCTR))\n",
        "hashValidationData.cache()\n",
        "hashTestData = rawTestData.map(lambda point: parseHashPoint(point,numBucketsCTR))\n",
        "hashTestData.cache()\n",
        "\n",
        "print hashTrainData.take(1)"
      ],
      "execution_count": 0,
      "outputs": [
        {
          "output_type": "stream",
          "text": [
            "[LabeledPoint(0.0, (32768,[1305,2883,3807,4814,4866,4913,6952,7117,9985,10316,11512,11722,12365,13893,14735,15816,16198,17761,19274,21604,22256,22563,22785,24855,25202,25533,25721,26487,26656,27668,28211,29152,29402,29873,30039,31484,32493,32708],[1.0,1.0,1.0,1.0,1.0,1.0,1.0,1.0,1.0,1.0,1.0,1.0,1.0,1.0,1.0,1.0,1.0,1.0,1.0,1.0,1.0,1.0,1.0,1.0,1.0,1.0,1.0,1.0,1.0,1.0,1.0,1.0,1.0,1.0,1.0,1.0,1.0,1.0]))]\n"
          ],
          "name": "stdout"
        }
      ]
    },
    {
      "cell_type": "code",
      "metadata": {
        "id": "N7PvIsX_iGbJ",
        "colab_type": "code",
        "outputId": "1a1289ee-8059-449f-9279-0375e93cb479",
        "colab": {
          "base_uri": "https://localhost:8080/",
          "height": 121
        }
      },
      "source": [
        "# TEST Creating hashed features (5b)\n",
        "hashTrainDataFeatureSum = sum(hashTrainData\n",
        "                           .map(lambda lp: len(lp.features.indices))\n",
        "                           .take(20))\n",
        "hashTrainDataLabelSum = sum(hashTrainData\n",
        "                         .map(lambda lp: lp.label)\n",
        "                         .take(100))\n",
        "hashValidationDataFeatureSum = sum(hashValidationData\n",
        "                                .map(lambda lp: len(lp.features.indices))\n",
        "                                .take(20))\n",
        "hashValidationDataLabelSum = sum(hashValidationData\n",
        "                              .map(lambda lp: lp.label)\n",
        "                              .take(100))\n",
        "hashTestDataFeatureSum = sum(hashTestData\n",
        "                          .map(lambda lp: len(lp.features.indices))\n",
        "                          .take(20))\n",
        "hashTestDataLabelSum = sum(hashTestData\n",
        "                        .map(lambda lp: lp.label)\n",
        "                        .take(100))\n",
        "\n",
        "Test.assertEquals(hashTrainDataFeatureSum, 772, 'incorrect number of features in hashTrainData')\n",
        "Test.assertEquals(hashTrainDataLabelSum, 24.0, 'incorrect labels in hashTrainData')\n",
        "Test.assertEquals(hashValidationDataFeatureSum, 776,\n",
        "                  'incorrect number of features in hashValidationData')\n",
        "Test.assertEquals(hashValidationDataLabelSum, 16.0, 'incorrect labels in hashValidationData')\n",
        "Test.assertEquals(hashTestDataFeatureSum, 774, 'incorrect number of features in hashTestData')\n",
        "Test.assertEquals(hashTestDataLabelSum, 23.0, 'incorrect labels in hashTestData')"
      ],
      "execution_count": 0,
      "outputs": [
        {
          "output_type": "stream",
          "text": [
            "1 test passed.\n",
            "1 test passed.\n",
            "1 test passed.\n",
            "1 test passed.\n",
            "1 test passed.\n",
            "1 test passed.\n"
          ],
          "name": "stdout"
        }
      ]
    },
    {
      "cell_type": "markdown",
      "metadata": {
        "id": "AWswQHEUiGbK",
        "colab_type": "text"
      },
      "source": [
        "#### ** (5c) Sparsity **\n",
        "#### Since we have 33K hashed features versus 233K OHE features, we should expect OHE features to be sparser. Verify this hypothesis by computing the average sparsity of the OHE and the hashed training datasets.\n",
        "#### Note that if you have a `SparseVector` named `sparse`, calling `len(sparse)` returns the total number of features, not the number features with entries.  `SparseVector` objects have the attributes `indices` and `values` that contain information about which features are nonzero.  Continuing with our example, these can be accessed using `sparse.indices` and `sparse.values`, respectively."
      ]
    },
    {
      "cell_type": "code",
      "metadata": {
        "id": "OXyInM2SiGbK",
        "colab_type": "code",
        "outputId": "35c062a8-9e99-4d36-e82b-8c66724a0a46",
        "colab": {
          "base_uri": "https://localhost:8080/",
          "height": 52
        }
      },
      "source": [
        "# TODO: Replace <FILL IN> with appropriate code\n",
        "def computeSparsity(data, d, n):\n",
        "    \"\"\"Calculates the average sparsity for the features in an RDD of LabeledPoints.\n",
        "\n",
        "    Args:\n",
        "        data (RDD of LabeledPoint): The LabeledPoints to use in the sparsity calculation.\n",
        "        d (int): The total number of features.\n",
        "        n (int): The number of observations in the RDD.\n",
        "\n",
        "    Returns:\n",
        "        float: The average of the ratio of features in a point to total features.\n",
        "    \"\"\"\n",
        "    return data.map(lambda point: len(point.features.indices)/float(d)).mean()\n",
        "\n",
        "averageSparsityHash = computeSparsity(hashTrainData, numBucketsCTR, nTrain)\n",
        "averageSparsityOHE = computeSparsity(OHETrainData, numCtrOHEFeats, nTrain)\n",
        "\n",
        "print 'Average OHE Sparsity: {0:.7e}'.format(averageSparsityOHE)\n",
        "print 'Average Hash Sparsity: {0:.7e}'.format(averageSparsityHash)"
      ],
      "execution_count": 0,
      "outputs": [
        {
          "output_type": "stream",
          "text": [
            "Average OHE Sparsity: 1.6717677e-04\n",
            "Average Hash Sparsity: 1.1805561e-03\n"
          ],
          "name": "stdout"
        }
      ]
    },
    {
      "cell_type": "code",
      "metadata": {
        "id": "SG3uMqW3iGbL",
        "colab_type": "code",
        "outputId": "25b918b2-5a83-4215-8ce6-bbf2539d5c01",
        "colab": {
          "base_uri": "https://localhost:8080/",
          "height": 52
        }
      },
      "source": [
        "# TEST Sparsity (5c)\n",
        "Test.assertTrue(np.allclose(averageSparsityOHE, 1.6717677e-04),\n",
        "                'incorrect value for averageSparsityOHE')\n",
        "Test.assertTrue(np.allclose(averageSparsityHash, 1.1805561e-03),\n",
        "                'incorrect value for averageSparsityHash')"
      ],
      "execution_count": 0,
      "outputs": [
        {
          "output_type": "stream",
          "text": [
            "1 test passed.\n",
            "1 test passed.\n"
          ],
          "name": "stdout"
        }
      ]
    },
    {
      "cell_type": "markdown",
      "metadata": {
        "id": "nzRG1_h3iGbM",
        "colab_type": "text"
      },
      "source": [
        "#### ** (5d) Logistic model with hashed features **\n",
        "#### Now let's train a logistic regression model using the hashed features. Run a grid search to find suitable hyperparameters for the hashed features, evaluating via log loss on the validation data. Note: This may take a few minutes to run. Use `1` and `10` for `stepSizes` and `1e-6` and `1e-3` for `regParams`."
      ]
    },
    {
      "cell_type": "code",
      "metadata": {
        "id": "_88geyp9iGbN",
        "colab_type": "code",
        "colab": {}
      },
      "source": [
        "numIters = 500\n",
        "regType = 'l2'\n",
        "includeIntercept = True\n",
        "\n",
        "# Initialize variables using values from initial model training\n",
        "bestModel = None\n",
        "bestLogLoss = 1e10"
      ],
      "execution_count": 0,
      "outputs": []
    },
    {
      "cell_type": "code",
      "metadata": {
        "id": "wvld9VnciGbO",
        "colab_type": "code",
        "outputId": "4ef07c3f-fe26-4ba5-97c8-838d9e43e2a4",
        "colab": {
          "base_uri": "https://localhost:8080/",
          "height": 139
        }
      },
      "source": [
        "# TODO: Replace <FILL IN> with appropriate code\n",
        "stepSizes = [1,10]\n",
        "regParams = [1e-6,1e-3]\n",
        "for stepSize in stepSizes:\n",
        "    for regParam in regParams:\n",
        "        model = (LogisticRegressionWithSGD\n",
        "                 .train(hashTrainData, numIters, stepSize, regParam=regParam, regType=regType,\n",
        "                        intercept=includeIntercept))\n",
        "        logLossVa = evaluateResults(model, hashValidationData)\n",
        "        print ('\\tstepSize = {0:.1f}, regParam = {1:.0e}: logloss = {2:.3f}'\n",
        "               .format(stepSize, regParam, logLossVa))\n",
        "        if (logLossVa < bestLogLoss):\n",
        "            bestModel = model\n",
        "            bestLogLoss = logLossVa\n",
        "\n",
        "print ('Hashed Features Validation Logloss:\\n\\tBaseline = {0:.3f}\\n\\tLogReg = {1:.3f}'\n",
        "       .format(logLossValBase, bestLogLoss))"
      ],
      "execution_count": 0,
      "outputs": [
        {
          "output_type": "stream",
          "text": [
            "\tstepSize = 1.0, regParam = 1e-06: logloss = 0.475\n",
            "\tstepSize = 1.0, regParam = 1e-03: logloss = 0.475\n",
            "\tstepSize = 10.0, regParam = 1e-06: logloss = 0.450\n",
            "\tstepSize = 10.0, regParam = 1e-03: logloss = 0.452\n",
            "Hashed Features Validation Logloss:\n",
            "\tBaseline = 0.528\n",
            "\tLogReg = 0.450\n"
          ],
          "name": "stdout"
        }
      ]
    },
    {
      "cell_type": "code",
      "metadata": {
        "id": "iKzeguQfiGbO",
        "colab_type": "code",
        "outputId": "cf43baff-09f5-4398-f635-706d6b560e9e",
        "colab": {
          "base_uri": "https://localhost:8080/",
          "height": 34
        }
      },
      "source": [
        "# TEST Logistic model with hashed features (5d)\n",
        "Test.assertTrue(np.allclose(bestLogLoss, 0.4481683608), 'incorrect value for bestLogLoss')"
      ],
      "execution_count": 0,
      "outputs": [
        {
          "output_type": "stream",
          "text": [
            "1 test failed. incorrect value for bestLogLoss\n"
          ],
          "name": "stdout"
        }
      ]
    },
    {
      "cell_type": "markdown",
      "metadata": {
        "id": "hPllGa7siGbQ",
        "colab_type": "text"
      },
      "source": [
        "#### **Visualization 3: Hyperparameter heat map**\n",
        "#### We will now perform a visualization of an extensive hyperparameter search.  Specifically, we will create a heat map where the brighter colors correspond to lower values of `logLoss`.\n",
        "#### The search was run using six step sizes and six values for regularization, which required the training of thirty-six separate models.  We have included the results below, but omitted the actual search to save time."
      ]
    },
    {
      "cell_type": "code",
      "metadata": {
        "id": "pbbqhBMtiGbQ",
        "colab_type": "code",
        "outputId": "3653945b-087c-463e-9e69-1a246accad87",
        "colab": {
          "base_uri": "https://localhost:8080/",
          "height": 446
        }
      },
      "source": [
        "from matplotlib.colors import LinearSegmentedColormap\n",
        "\n",
        "# Saved parameters and results.  Eliminate the time required to run 36 models\n",
        "stepSizes = [3, 6, 9, 12, 15, 18]\n",
        "regParams = [1e-7, 1e-6, 1e-5, 1e-4, 1e-3, 1e-2]\n",
        "logLoss = np.array([[ 0.45808431,  0.45808493,  0.45809113,  0.45815333,  0.45879221,  0.46556321],\n",
        "                    [ 0.45188196,  0.45188306,  0.4518941,   0.4520051,   0.45316284,  0.46396068],\n",
        "                    [ 0.44886478,  0.44886613,  0.44887974,  0.44902096,  0.4505614,   0.46371153],\n",
        "                    [ 0.44706645,  0.4470698,   0.44708102,  0.44724251,  0.44905525,  0.46366507],\n",
        "                    [ 0.44588848,  0.44589365,  0.44590568,  0.44606631,  0.44807106,  0.46365589],\n",
        "                    [ 0.44508948,  0.44509474,  0.44510274,  0.44525007,  0.44738317,  0.46365405]])\n",
        "\n",
        "numRows, numCols = len(stepSizes), len(regParams)\n",
        "logLoss = np.array(logLoss)\n",
        "logLoss.shape = (numRows, numCols)\n",
        "\n",
        "fig, ax = preparePlot(np.arange(0, numCols, 1), np.arange(0, numRows, 1), figsize=(8, 7),\n",
        "                      hideLabels=True, gridWidth=0.)\n",
        "ax.set_xticklabels(regParams), ax.set_yticklabels(stepSizes)\n",
        "ax.set_xlabel('Regularization Parameter'), ax.set_ylabel('Step Size')\n",
        "\n",
        "colors = LinearSegmentedColormap.from_list('blue', ['#0022ff', '#000055'], gamma=.2)\n",
        "image = plt.imshow(logLoss,interpolation='nearest', aspect='auto',\n",
        "                    cmap = colors)\n",
        "pass"
      ],
      "execution_count": 0,
      "outputs": [
        {
          "output_type": "display_data",
          "data": {
            "image/png": "[encoded data removed]",
            "text/plain": [
              "<Figure size 576x504 with 1 Axes>"
            ]
          },
          "metadata": {
            "tags": []
          }
        }
      ]
    },
    {
      "cell_type": "markdown",
      "metadata": {
        "id": "dwxtmqcIiGbS",
        "colab_type": "text"
      },
      "source": [
        "#### ** (5e) Evaluate on the test set **\n",
        "#### Finally, evaluate the best model from Part (5d) on the test set.  Compare the resulting log loss with the baseline log loss on the test set, which can be computed in the same way that the validation log loss was computed in Part (4f)."
      ]
    },
    {
      "cell_type": "code",
      "metadata": {
        "id": "3Hk1QCstiGbT",
        "colab_type": "code",
        "outputId": "52dc2234-ca21-4ab8-8363-08e8c6170c8c",
        "colab": {
          "base_uri": "https://localhost:8080/",
          "height": 69
        }
      },
      "source": [
        "# TODO: Replace <FILL IN> with appropriate code\n",
        "# Log loss for the best model from (5d)\n",
        "logLossTest = evaluateResults(bestModel, hashTestData)\n",
        "\n",
        "# Log loss for the baseline model\n",
        "logLossTestBaseline = hashTestData.map(lambda point: computeLogLoss(classOneFracTrain,point.label)).mean()\n",
        "\n",
        "print ('Hashed Features Test Log Loss:\\n\\tBaseline = {0:.3f}\\n\\tLogReg = {1:.3f}'\n",
        "       .format(logLossTestBaseline, logLossTest))"
      ],
      "execution_count": 0,
      "outputs": [
        {
          "output_type": "stream",
          "text": [
            "Hashed Features Test Log Loss:\n",
            "\tBaseline = 0.537\n",
            "\tLogReg = 0.457\n"
          ],
          "name": "stdout"
        }
      ]
    },
    {
      "cell_type": "code",
      "metadata": {
        "id": "OoDQV5oeiGbU",
        "colab_type": "code",
        "outputId": "2a038642-8b63-4452-fece-e075ae290488",
        "colab": {
          "base_uri": "https://localhost:8080/",
          "height": 52
        }
      },
      "source": [
        "# TEST Evaluate on the test set (5e)\n",
        "Test.assertTrue(np.allclose(logLossTestBaseline, 0.537438),\n",
        "                'incorrect value for logLossTestBaseline')\n",
        "Test.assertTrue(np.allclose(logLossTest, 0.455616931), 'incorrect value for logLossTest')"
      ],
      "execution_count": 0,
      "outputs": [
        {
          "output_type": "stream",
          "text": [
            "1 test passed.\n",
            "1 test failed. incorrect value for logLossTest\n"
          ],
          "name": "stdout"
        }
      ]
    }
  ]
}